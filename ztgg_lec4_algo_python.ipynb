{
 "cells": [
  {
   "cell_type": "markdown",
   "metadata": {},
   "source": [
    "# Algorithms"
   ]
  },
  {
   "cell_type": "code",
   "execution_count": 1,
   "metadata": {},
   "outputs": [],
   "source": [
    "class Solution(object):\n",
    "    pass\n",
    "\n",
    "sol = Solution()"
   ]
  },
  {
   "cell_type": "code",
   "execution_count": null,
   "metadata": {},
   "outputs": [],
   "source": [
    "# big O notation\n",
    "# https://rob-bell.net/2009/06/a-beginners-guide-to-big-o-notation/"
   ]
  },
  {
   "cell_type": "code",
   "execution_count": null,
   "metadata": {},
   "outputs": [],
   "source": [
    "# O(1): constant time\n",
    "# O(n): linear time\n",
    "# O(log(n))\n",
    "# O(nlog(n))\n",
    "# O(n^2)"
   ]
  },
  {
   "cell_type": "code",
   "execution_count": null,
   "metadata": {},
   "outputs": [],
   "source": []
  },
  {
   "cell_type": "code",
   "execution_count": null,
   "metadata": {},
   "outputs": [],
   "source": []
  },
  {
   "cell_type": "markdown",
   "metadata": {},
   "source": [
    "### use of dictionary"
   ]
  },
  {
   "cell_type": "markdown",
   "metadata": {},
   "source": [
    "Given an array of integers, return indices of the two numbers such that they add up to a specific target.\n",
    "\n",
    "You may assume that each input would have exactly one solution, and you may not use the same element twice.\n",
    "\n",
    "Example: \n",
    "\n",
    "Given nums = [2, 7, 11, 15], target = 9,\n",
    "\n",
    "Because nums[0] + nums[1] = 2 + 7 = 9, return [0, 1]."
   ]
  },
  {
   "cell_type": "code",
   "execution_count": 2,
   "metadata": {},
   "outputs": [],
   "source": [
    "def twoSum(self, nums, target):\n",
    "    d = {}\n",
    "    for idx, ele in enumerate(nums):\n",
    "        if target - ele in d:\n",
    "            return [d[target - ele], idx]\n",
    "        else:\n",
    "            d[ele] = idx\n",
    "    return []\n",
    "Solution.twoSum = twoSum"
   ]
  },
  {
   "cell_type": "code",
   "execution_count": 3,
   "metadata": {},
   "outputs": [
    {
     "data": {
      "text/plain": [
       "[0, 1]"
      ]
     },
     "execution_count": 3,
     "metadata": {},
     "output_type": "execute_result"
    }
   ],
   "source": [
    "sol.twoSum([2, 7, 11, 15], 9)"
   ]
  },
  {
   "cell_type": "markdown",
   "metadata": {},
   "source": [
    "If not allowed to use dictionary: then use two pointers. "
   ]
  },
  {
   "cell_type": "code",
   "execution_count": 4,
   "metadata": {},
   "outputs": [],
   "source": [
    "def twoSum(self, nums, target):\n",
    "    nums_copy = sorted(nums)\n",
    "    idx_start = 0\n",
    "    idx_end = len(nums) - 1\n",
    "    while idx_start < idx_end:\n",
    "        if nums_copy[idx_start] + nums_copy[idx_end] == target:\n",
    "            return [idx_start, idx_end]\n",
    "        elif nums_copy[idx_start] + nums_copy[idx_end] < target:\n",
    "            idx_start += 1\n",
    "        else:\n",
    "            idx_end -= 1\n",
    "    return []\n",
    "Solution.twoSum = twoSum"
   ]
  },
  {
   "cell_type": "code",
   "execution_count": 5,
   "metadata": {},
   "outputs": [
    {
     "data": {
      "text/plain": [
       "[0, 1]"
      ]
     },
     "execution_count": 5,
     "metadata": {},
     "output_type": "execute_result"
    }
   ],
   "source": [
    "sol.twoSum([2, 7, 11, 15], 9)"
   ]
  },
  {
   "cell_type": "markdown",
   "metadata": {},
   "source": [
    "### use of set"
   ]
  },
  {
   "cell_type": "markdown",
   "metadata": {},
   "source": [
    "Given a list of numbers, find the number of consecutive range of numbers.  \n",
    "\n",
    "Example:  \n",
    "\n",
    "input - [0,1,5,4,6,8,9,11,70,71]  \n",
    "\n",
    "process - [0,1], [4,5,6], [8,9], [11], [70,71]   \n",
    "\n",
    "output - 5  "
   ]
  },
  {
   "cell_type": "code",
   "execution_count": 6,
   "metadata": {},
   "outputs": [],
   "source": [
    "def numRange(self, nums):\n",
    "    s = set(nums)\n",
    "    count = 0\n",
    "    while len(s) > 0:\n",
    "        curr = s.pop() # for set, pop a random element from it. \n",
    "        start, end = curr - 1, curr + 1\n",
    "        while start in s:\n",
    "            s.remove(start)\n",
    "            start -= 1\n",
    "        while end in s:\n",
    "            s.remove(end)\n",
    "            end += 1\n",
    "        count += 1\n",
    "    return count\n",
    "Solution.numRange = numRange"
   ]
  },
  {
   "cell_type": "code",
   "execution_count": 7,
   "metadata": {},
   "outputs": [
    {
     "data": {
      "text/plain": [
       "5"
      ]
     },
     "execution_count": 7,
     "metadata": {},
     "output_type": "execute_result"
    }
   ],
   "source": [
    "sol.numRange([0,1,5,4,6,8,9,11,70,71])"
   ]
  },
  {
   "cell_type": "markdown",
   "metadata": {},
   "source": [
    "### pop() method"
   ]
  },
  {
   "cell_type": "code",
   "execution_count": 8,
   "metadata": {},
   "outputs": [
    {
     "name": "stdout",
     "output_type": "stream",
     "text": [
      "[0, 1, 5, 4, 6, 8, 9, 11, 70, 71]\n",
      "71\n",
      "[0, 1, 5, 4, 6, 8, 9, 11, 70]\n"
     ]
    }
   ],
   "source": [
    "a = [0,1,5,4,6,8,9,11,70,71]\n",
    "print(a)\n",
    "print(a.pop())\n",
    "print(a)"
   ]
  },
  {
   "cell_type": "code",
   "execution_count": 9,
   "metadata": {},
   "outputs": [
    {
     "name": "stdout",
     "output_type": "stream",
     "text": [
      "0\n",
      "[1, 5, 4, 6, 8, 9, 11, 70]\n"
     ]
    }
   ],
   "source": [
    "print(a.pop(0))\n",
    "print(a)"
   ]
  },
  {
   "cell_type": "markdown",
   "metadata": {},
   "source": [
    "### therefore, we could use the append() method and pop() method to instrument the queue/stack structure in Python"
   ]
  },
  {
   "cell_type": "markdown",
   "metadata": {},
   "source": [
    "### use of stack"
   ]
  },
  {
   "cell_type": "markdown",
   "metadata": {},
   "source": [
    "Given a string containing just the characters '(', ')', '{', '}', '[' and ']', determine if the input string is valid.\n",
    "\n",
    "An input string is valid if:\n",
    "\n",
    "* Open brackets must be closed by the same type of brackets.\n",
    "\n",
    "* Open brackets must be closed in the correct order.\n",
    "\n",
    "Note that an empty string is also considered valid.\n",
    "\n",
    "Example 1:\n",
    "\n",
    "Input: \"()\"\n",
    "Output: true\n",
    "\n",
    "Example 2:\n",
    "\n",
    "Input: \"()[]{}\"\n",
    "Output: true\n",
    "\n",
    "Example 3:\n",
    "\n",
    "Input: \"(]\"\n",
    "Output: false\n",
    "\n",
    "Example 4:\n",
    "\n",
    "Input: \"([)]\"\n",
    "Output: false\n",
    "\n",
    "Example 5:\n",
    "\n",
    "Input: \"{[]}\"\n",
    "Output: true"
   ]
  },
  {
   "cell_type": "code",
   "execution_count": 10,
   "metadata": {},
   "outputs": [],
   "source": [
    "def validPar(self, mystr):\n",
    "    stack = []\n",
    "    for ele in mystr:\n",
    "        if ele in '([{':\n",
    "            stack.append(ele)\n",
    "        elif ele in ')]}':\n",
    "            if len(stack) == 0:\n",
    "                return False\n",
    "            s = stack.pop()\n",
    "            if s+ele != '()' and s+ele != '[]' and s+ele != '{}':\n",
    "                return False\n",
    "        else:\n",
    "            return False\n",
    "    if len(stack) > 0:\n",
    "        return False\n",
    "    return True\n",
    "Solution.validPar = validPar"
   ]
  },
  {
   "cell_type": "code",
   "execution_count": 11,
   "metadata": {},
   "outputs": [
    {
     "data": {
      "text/plain": [
       "False"
      ]
     },
     "execution_count": 11,
     "metadata": {},
     "output_type": "execute_result"
    }
   ],
   "source": [
    "sol.validPar('{[}]')"
   ]
  },
  {
   "cell_type": "code",
   "execution_count": 12,
   "metadata": {},
   "outputs": [
    {
     "data": {
      "text/plain": [
       "True"
      ]
     },
     "execution_count": 12,
     "metadata": {},
     "output_type": "execute_result"
    }
   ],
   "source": [
    "sol.validPar('{[]}')"
   ]
  },
  {
   "cell_type": "markdown",
   "metadata": {},
   "source": [
    "### dynamic programming"
   ]
  },
  {
   "cell_type": "markdown",
   "metadata": {},
   "source": [
    "Now suppose a person can only go up 1 stair or 2 stairs everytime, calculate the number of ways he can go up N stairs.\n",
    "Example:\n",
    "Input: N = 4\n",
    "Process: 1111 or 121 or 112 or 211 or 22\n",
    "Output: 5"
   ]
  },
  {
   "cell_type": "code",
   "execution_count": 13,
   "metadata": {},
   "outputs": [],
   "source": [
    "# use recursion \n",
    "def goStairs(self, n):\n",
    "    if n == 1:\n",
    "        return 1\n",
    "    if n == 2:\n",
    "        return 2\n",
    "    return goStairs(self, n-1) + goStairs(self, n-2)\n",
    "    \n",
    "Solution.goStairs = goStairs\n",
    "# O(2^n) complexity"
   ]
  },
  {
   "cell_type": "code",
   "execution_count": 14,
   "metadata": {},
   "outputs": [
    {
     "data": {
      "text/plain": [
       "5"
      ]
     },
     "execution_count": 14,
     "metadata": {},
     "output_type": "execute_result"
    }
   ],
   "source": [
    "sol.goStairs(4)"
   ]
  },
  {
   "cell_type": "code",
   "execution_count": 2,
   "metadata": {},
   "outputs": [],
   "source": [
    "# use DP \n",
    "def goStairs(self, n):\n",
    "    if n <= 0:\n",
    "        return -1\n",
    "    if n == 1:        \n",
    "        return 1\n",
    "    if n == 2:      \n",
    "        return 2\n",
    "    dp = [0]*(n+1)\n",
    "    dp[0] = -1 # when n = 0\n",
    "    dp[1] = 1 # when n = 1\n",
    "    dp[2] = 2 # when n = 2\n",
    "    for i in range(3, len(dp)):\n",
    "        dp[i] = dp[i-1] + dp[i-2]   \n",
    "    return dp[-1]\n",
    "    \n",
    "Solution.goStairs = goStairs\n",
    "\n",
    "# O(n) complexity \n",
    "# 3 steps to solve:\n",
    "# 1). initial states,\n",
    "# 2). relation between different states\n",
    "# 3). induction, extention of 2). "
   ]
  },
  {
   "cell_type": "code",
   "execution_count": 3,
   "metadata": {},
   "outputs": [
    {
     "data": {
      "text/plain": [
       "5"
      ]
     },
     "execution_count": 3,
     "metadata": {},
     "output_type": "execute_result"
    }
   ],
   "source": [
    "sol.goStairs(4)"
   ]
  },
  {
   "cell_type": "markdown",
   "metadata": {},
   "source": [
    "### others"
   ]
  },
  {
   "cell_type": "markdown",
   "metadata": {},
   "source": [
    "Given a list of intervals, merge all the overlapping ones and return the final list.\n",
    "\n",
    "Example:\n",
    "\n",
    "Input: [[3,6],[1,2],[4,7],[9,11]]\n",
    "\n",
    "Output: [[1,2],[3,7],[9,11]]"
   ]
  },
  {
   "cell_type": "code",
   "execution_count": 17,
   "metadata": {},
   "outputs": [
    {
     "data": {
      "text/plain": [
       "[[1, 2], [3, 6], [4, 7], [9, 11]]"
      ]
     },
     "execution_count": 17,
     "metadata": {},
     "output_type": "execute_result"
    }
   ],
   "source": [
    "s = [[3,6],[1,2],[4,7],[9,11]]\n",
    "sorted(s, key = lambda x: x[0])"
   ]
  },
  {
   "cell_type": "code",
   "execution_count": 18,
   "metadata": {},
   "outputs": [],
   "source": [
    "def mergeInterval(self, intervals):\n",
    "    intervals = sorted(intervals, key = lambda x: x[0])\n",
    "    out = []\n",
    "    ele = intervals[0]\n",
    "    prev_start, prev_end = ele[0], ele[1]\n",
    "    for ele in intervals[1:]:\n",
    "        st, ed = ele[0], ele[1]\n",
    "        if st <= prev_end:\n",
    "            prev_end = max(prev_end, ed)\n",
    "        else: # found a non-overlapping pair\n",
    "            out.append([prev_start, prev_end])\n",
    "            prev_start, prev_end = st, ed\n",
    "    out.append([prev_start, prev_end])\n",
    "    return out\n",
    "Solution.mergeInterval = mergeInterval"
   ]
  },
  {
   "cell_type": "code",
   "execution_count": 19,
   "metadata": {},
   "outputs": [
    {
     "data": {
      "text/plain": [
       "[[1, 2], [3, 7], [9, 11]]"
      ]
     },
     "execution_count": 19,
     "metadata": {},
     "output_type": "execute_result"
    }
   ],
   "source": [
    "sol.mergeInterval([[3,6],[1,2],[4,7],[9,11]])"
   ]
  },
  {
   "cell_type": "markdown",
   "metadata": {},
   "source": [
    "### Two pointers"
   ]
  },
  {
   "cell_type": "code",
   "execution_count": null,
   "metadata": {},
   "outputs": [],
   "source": [
    "# https://www.geeksforgeeks.org/longest-subsegment-1s-formed-changing-k-0s/\n",
    "# Given a binary array a[] and a number k, we need to find length of the \n",
    "# longest subsegment of ‘1’s possible by changing at most k ‘0’s.\n",
    "# Input : a[] = {1, 0, 0, 1, 1, 0, 1}, \n",
    "#           k = 1.\n",
    "# Output : 4\n",
    "# Explanation : Here, we should only change 1\n",
    "# zero(0). Maximum possible length we can get\n",
    "# is by changing the 3rd zero in the array, \n",
    "# we get a[] = {1, 0, 0, 1, 1, 1, 1}\n",
    "\n",
    "# Input : a[] = {1, 0, 0, 1, 0, 1, 0, 1, 0, 1}, \n",
    "#          k = 2.\n",
    "# Output : 5\n",
    "# Output: Here, we can change only 2 zeros. \n",
    "# Maximum possible length we can get is by \n",
    "# changing the 3rd and 4th (or) 4th and 5th \n",
    "# zeros."
   ]
  },
  {
   "cell_type": "code",
   "execution_count": 20,
   "metadata": {},
   "outputs": [],
   "source": [
    "def longestSubArr(arr, k):\n",
    "    count0 = 0\n",
    "    start_idx = 0\n",
    "    end_idx = 0\n",
    "    max_len = 0\n",
    "    # look at the end of the array\n",
    "    for end_idx in range(0, len(arr)):\n",
    "        if arr[end_idx] == 0:\n",
    "            count0 = count0 + 1\n",
    "            # If there are more 0's move left point towards current ending point. \n",
    "            while count0 > k:\n",
    "                if arr[start_idx] == 0:\n",
    "                    count0 = count0 - 1\n",
    "                start_idx = start_idx + 1           \n",
    "        if end_idx - start_idx + 1 > max_len:\n",
    "            max_len = end_idx - start_idx + 1\n",
    "    print(arr[start_idx:(end_idx+1)])\n",
    "    return max_len"
   ]
  },
  {
   "cell_type": "code",
   "execution_count": 21,
   "metadata": {},
   "outputs": [
    {
     "name": "stdout",
     "output_type": "stream",
     "text": [
      "[1, 1, 0, 1]\n"
     ]
    },
    {
     "data": {
      "text/plain": [
       "4"
      ]
     },
     "execution_count": 21,
     "metadata": {},
     "output_type": "execute_result"
    }
   ],
   "source": [
    "a = [1, 0, 0, 1, 1, 0, 1]\n",
    "longestSubArr(a, 1)"
   ]
  },
  {
   "cell_type": "code",
   "execution_count": 22,
   "metadata": {},
   "outputs": [
    {
     "name": "stdout",
     "output_type": "stream",
     "text": [
      "[1, 0, 1, 0, 1]\n"
     ]
    },
    {
     "data": {
      "text/plain": [
       "5"
      ]
     },
     "execution_count": 22,
     "metadata": {},
     "output_type": "execute_result"
    }
   ],
   "source": [
    "a = [1, 0, 0, 1, 0, 1, 0, 1, 0, 1]\n",
    "longestSubArr(a, 2)"
   ]
  },
  {
   "cell_type": "markdown",
   "metadata": {},
   "source": [
    "## Sorting"
   ]
  },
  {
   "cell_type": "markdown",
   "metadata": {},
   "source": [
    "### Merge two sorted linked lists and return it as a new list. \n",
    "\n",
    "The new list should be made by splicing together the nodes of the first two lists.\n",
    "\n",
    "Example:\n",
    "\n",
    "Input: 1->2->4, 1->3->4     \n",
    "\n",
    "Output: 1->1->2->3->4->4"
   ]
  },
  {
   "cell_type": "code",
   "execution_count": 7,
   "metadata": {},
   "outputs": [],
   "source": [
    "class ListNode:\n",
    "    def __init__(self, x):\n",
    "        self.val = x\n",
    "        self.next = None\n",
    "    def printListNode(self):\n",
    "        print(self.val)\n",
    "        n = self.next\n",
    "        while n:\n",
    "            print(n.val)\n",
    "            n = n.next\n",
    "        print('------')"
   ]
  },
  {
   "cell_type": "code",
   "execution_count": 8,
   "metadata": {},
   "outputs": [
    {
     "name": "stdout",
     "output_type": "stream",
     "text": [
      "1\n",
      "2\n",
      "4\n",
      "------\n",
      "1\n",
      "3\n",
      "4\n",
      "------\n"
     ]
    }
   ],
   "source": [
    "l1 = ListNode(1)\n",
    "l1.next = ListNode(2)\n",
    "l1.next.next = ListNode(4)\n",
    "l2 = ListNode(1)\n",
    "l2.next = ListNode(3)\n",
    "l2.next.next = ListNode(4)\n",
    "l1.printListNode()\n",
    "l2.printListNode()"
   ]
  },
  {
   "cell_type": "code",
   "execution_count": 4,
   "metadata": {},
   "outputs": [],
   "source": [
    "def mergeTwoLists(l1: ListNode, l2: ListNode) -> ListNode:\n",
    "    if not l1:\n",
    "        l1, l2 = l2, l1\n",
    "    if not l2:\n",
    "        return l1\n",
    "    head, curr = None, None\n",
    "    while True:\n",
    "        # always make sure l1.val is less than l2.val\n",
    "        if l1.val > l2.val:\n",
    "            l1, l2 = l2, l1                \n",
    "        if not head:\n",
    "            curr = head = l1\n",
    "        else:\n",
    "            curr.next = l1\n",
    "            curr = curr.next\n",
    "        l1 = l1.next\n",
    "        if not l1:\n",
    "            curr.next = l2\n",
    "            break\n",
    "    return head"
   ]
  },
  {
   "cell_type": "code",
   "execution_count": 9,
   "metadata": {
    "scrolled": true
   },
   "outputs": [
    {
     "name": "stdout",
     "output_type": "stream",
     "text": [
      "1\n",
      "1\n",
      "2\n",
      "3\n",
      "4\n",
      "4\n",
      "------\n"
     ]
    }
   ],
   "source": [
    "l3 = mergeTwoLists(l1, l2)\n",
    "l3.printListNode()"
   ]
  },
  {
   "cell_type": "markdown",
   "metadata": {},
   "source": [
    "### Insertion Sort List O(n^2)\n",
    "![alt text](https://upload.wikimedia.org/wikipedia/commons/0/0f/Insertion-sort-example-300px.gif)"
   ]
  },
  {
   "cell_type": "markdown",
   "metadata": {},
   "source": [
    "Algorithm of Insertion Sort:\n",
    "\n",
    "Insertion sort iterates, consuming one input element each repetition, and growing a sorted output list.\n",
    "At each iteration, insertion sort removes one element from the input data, finds the location it belongs within the sorted list, and inserts it there.\n",
    "It repeats until no input elements remain.\n",
    "\n",
    "Example:\n",
    "\n",
    "Input: -1->5->3->4->0\n",
    "    \n",
    "Output: -1->0->3->4->5"
   ]
  },
  {
   "cell_type": "code",
   "execution_count": 14,
   "metadata": {},
   "outputs": [
    {
     "name": "stdout",
     "output_type": "stream",
     "text": [
      "-1\n",
      "5\n",
      "3\n",
      "4\n",
      "0\n",
      "------\n"
     ]
    }
   ],
   "source": [
    "l1 = ListNode(-1)\n",
    "l1.next = ListNode(5)\n",
    "l1.next.next = ListNode(3)\n",
    "l1.next.next.next = ListNode(4)\n",
    "l1.next.next.next.next = ListNode(0)\n",
    "l1.printListNode()"
   ]
  },
  {
   "cell_type": "code",
   "execution_count": 15,
   "metadata": {},
   "outputs": [],
   "source": [
    "def insertionSortList(head: ListNode) -> ListNode:\n",
    "    if not head or not head.next:\n",
    "        return head\n",
    "    prev = head\n",
    "    curr = head.next\n",
    "    while True:\n",
    "        # if is in order\n",
    "        if curr.val >= prev.val:\n",
    "            prev, curr = curr, curr.next\n",
    "        # not in order, find and insert\n",
    "        else:                \n",
    "            if head.val > curr.val: # found the right place\n",
    "                prev.next = curr.next \n",
    "                curr.next = head\n",
    "                head = curr\n",
    "                curr = prev.next\n",
    "            else:\n",
    "                h = head\n",
    "                while h.next.val <= curr.val:\n",
    "                    h = h.next\n",
    "                # found the right place to insert\n",
    "                prev.next = curr.next\n",
    "                curr.next = h.next\n",
    "                h.next = curr\n",
    "                curr = prev.next\n",
    "        if not curr:\n",
    "            break\n",
    "    return head"
   ]
  },
  {
   "cell_type": "code",
   "execution_count": 16,
   "metadata": {},
   "outputs": [
    {
     "name": "stdout",
     "output_type": "stream",
     "text": [
      "-1\n",
      "0\n",
      "3\n",
      "4\n",
      "5\n",
      "------\n"
     ]
    }
   ],
   "source": [
    "l2 = insertionSortList(l1)\n",
    "l2.printListNode()"
   ]
  },
  {
   "cell_type": "markdown",
   "metadata": {},
   "source": [
    "## Tree Traversal Algorithms"
   ]
  },
  {
   "cell_type": "markdown",
   "metadata": {},
   "source": [
    "### depth first search"
   ]
  },
  {
   "cell_type": "markdown",
   "metadata": {},
   "source": [
    "There are three ways which we use to traverse a tree following on DFS:\n",
    "- In-order Traversal\n",
    "- Pre-order Traversal\n",
    "- Post-order Traversal"
   ]
  },
  {
   "cell_type": "code",
   "execution_count": 1,
   "metadata": {},
   "outputs": [],
   "source": [
    "class Node:\n",
    "\n",
    "    def __init__(self, data):\n",
    "\n",
    "        self.left = None\n",
    "        self.right = None\n",
    "        self.data = data\n",
    "        \n",
    "    # Insert Node\n",
    "    def insert(self, data):\n",
    "\n",
    "        if self.data:\n",
    "            if data < self.data:\n",
    "                if self.left is None:\n",
    "                    self.left = Node(data)\n",
    "                else:\n",
    "                    self.left.insert(data)\n",
    "            elif data > self.data:\n",
    "                if self.right is None:\n",
    "                    self.right = Node(data)\n",
    "                else:\n",
    "                    self.right.insert(data)\n",
    "        else:\n",
    "            self.data = data\n",
    "\n",
    "    # Print the Tree\n",
    "    def PrintTree(self):\n",
    "        if self.left:\n",
    "            self.left.PrintTree()\n",
    "        if self.data:\n",
    "            print(self.data),\n",
    "        if self.right:\n",
    "            self.right.PrintTree()\n",
    "        return"
   ]
  },
  {
   "cell_type": "code",
   "execution_count": 57,
   "metadata": {},
   "outputs": [],
   "source": [
    "root = Node(27)\n",
    "root.insert(14)\n",
    "root.insert(35)\n",
    "root.insert(10)\n",
    "root.insert(19)\n",
    "root.insert(31)\n",
    "root.insert(42)"
   ]
  },
  {
   "cell_type": "code",
   "execution_count": 58,
   "metadata": {},
   "outputs": [],
   "source": [
    "#        27\n",
    "#       /  \\\n",
    "#    14      35\n",
    "#    /\\      /\\\n",
    "#  10  19  31  42"
   ]
  },
  {
   "cell_type": "code",
   "execution_count": 59,
   "metadata": {},
   "outputs": [
    {
     "name": "stdout",
     "output_type": "stream",
     "text": [
      "10\n",
      "14\n",
      "19\n",
      "27\n",
      "31\n",
      "35\n",
      "42\n"
     ]
    }
   ],
   "source": [
    "root.PrintTree()"
   ]
  },
  {
   "cell_type": "markdown",
   "metadata": {},
   "source": [
    "### In-order Traversal\n",
    "\n",
    "In this traversal method, the left subtree is visited first, then the root and later the right sub-tree. "
   ]
  },
  {
   "cell_type": "code",
   "execution_count": 24,
   "metadata": {},
   "outputs": [],
   "source": [
    "# Inorder traversal\n",
    "# Left -> Root -> Right\n",
    "def inorderTraversal(root):\n",
    "    res = []\n",
    "    if root:\n",
    "        res = res + inorderTraversal(root.left)\n",
    "        res.append(root.data)\n",
    "        res = res + inorderTraversal(root.right)\n",
    "    return res"
   ]
  },
  {
   "cell_type": "code",
   "execution_count": 25,
   "metadata": {},
   "outputs": [
    {
     "data": {
      "text/plain": [
       "[10, 14, 19, 27, 31, 35, 42]"
      ]
     },
     "execution_count": 25,
     "metadata": {},
     "output_type": "execute_result"
    }
   ],
   "source": [
    "inorderTraversal(root)"
   ]
  },
  {
   "cell_type": "code",
   "execution_count": 26,
   "metadata": {},
   "outputs": [],
   "source": [
    "# Inorder traversal\n",
    "# Left -> Root -> Right\n",
    "# use stack to store the node, first travel to the left most, and then travel the root, and then the right trees\n",
    "# https://www.geeksforgeeks.org/inorder-tree-traversal-without-recursion/\n",
    "def inorderTraversal(root):\n",
    "    node_stack = []\n",
    "    output = []\n",
    "    def travelLeftNode(rt):\n",
    "        while rt is not None:\n",
    "            node_stack.append(rt)\n",
    "            rt = rt.left\n",
    "        return  \n",
    "    if root:\n",
    "        travelLeftNode(root)\n",
    "    while len(node_stack) > 0:\n",
    "        n = node_stack.pop()\n",
    "        output.append(n.data)\n",
    "        if n.right:\n",
    "            travelLeftNode(n.right)\n",
    "    return output"
   ]
  },
  {
   "cell_type": "code",
   "execution_count": 27,
   "metadata": {},
   "outputs": [
    {
     "data": {
      "text/plain": [
       "[10, 14, 19, 27, 31, 35, 42]"
      ]
     },
     "execution_count": 27,
     "metadata": {},
     "output_type": "execute_result"
    }
   ],
   "source": [
    "inorderTraversal(root)"
   ]
  },
  {
   "cell_type": "code",
   "execution_count": 28,
   "metadata": {},
   "outputs": [],
   "source": [
    "# Inorder traversal\n",
    "# Left -> Root -> Right\n",
    "# use stack and flags\n",
    "def inorderTraversal(root):\n",
    "    output, node_stack = [], [(root, False)]\n",
    "    while len(node_stack) > 0:\n",
    "        n, visited = node_stack.pop()\n",
    "        if n:\n",
    "            if visited:\n",
    "                # add to result if visited\n",
    "                output.append(n.data)\n",
    "            else:\n",
    "                # in-order\n",
    "                node_stack.append((n.right, False))\n",
    "                node_stack.append((n, True))\n",
    "                node_stack.append((n.left, False)) \n",
    "    return output"
   ]
  },
  {
   "cell_type": "code",
   "execution_count": 29,
   "metadata": {},
   "outputs": [
    {
     "data": {
      "text/plain": [
       "[10, 14, 19, 27, 31, 35, 42]"
      ]
     },
     "execution_count": 29,
     "metadata": {},
     "output_type": "execute_result"
    }
   ],
   "source": [
    "inorderTraversal(root)"
   ]
  },
  {
   "cell_type": "markdown",
   "metadata": {},
   "source": [
    "### Pre-order Traversal\n",
    "In this traversal method, the root node is visited first, then the left subtree and finally the right subtree."
   ]
  },
  {
   "cell_type": "code",
   "execution_count": 30,
   "metadata": {},
   "outputs": [],
   "source": [
    "# Root -> Left -> Right\n",
    "def preorderTraversal(root):\n",
    "    res = []\n",
    "    if root:\n",
    "        res.append(root.data)\n",
    "        res = res + preorderTraversal(root.left)\n",
    "        res = res + preorderTraversal(root.right)\n",
    "    return res"
   ]
  },
  {
   "cell_type": "code",
   "execution_count": 31,
   "metadata": {},
   "outputs": [
    {
     "data": {
      "text/plain": [
       "[27, 14, 10, 19, 35, 31, 42]"
      ]
     },
     "execution_count": 31,
     "metadata": {},
     "output_type": "execute_result"
    }
   ],
   "source": [
    "preorderTraversal(root)"
   ]
  },
  {
   "cell_type": "code",
   "execution_count": 32,
   "metadata": {},
   "outputs": [],
   "source": [
    "# Root -> Left -> Right\n",
    "# first exam the root, then the left tree, and then the right tree\n",
    "# use stack\n",
    "def preorderTraversal(root):\n",
    "    output, node_stack = [], [root]\n",
    "    while len(node_stack) > 0:\n",
    "        n = node_stack.pop()\n",
    "        if n:\n",
    "            output.append(n.data)\n",
    "            node_stack.append(n.right)\n",
    "            node_stack.append(n.left)\n",
    "    return output"
   ]
  },
  {
   "cell_type": "code",
   "execution_count": 33,
   "metadata": {},
   "outputs": [
    {
     "data": {
      "text/plain": [
       "[27, 14, 10, 19, 35, 31, 42]"
      ]
     },
     "execution_count": 33,
     "metadata": {},
     "output_type": "execute_result"
    }
   ],
   "source": [
    "preorderTraversal(root)"
   ]
  },
  {
   "cell_type": "markdown",
   "metadata": {},
   "source": [
    "### Post-order Traversal\n",
    "In this traversal method, the root node is visited last, hence the name. First we traverse the left subtree, then the right subtree and finally the root node."
   ]
  },
  {
   "cell_type": "code",
   "execution_count": 34,
   "metadata": {},
   "outputs": [],
   "source": [
    "# Left ->Right -> Root\n",
    "def postorderTraversal(root):\n",
    "    res = []\n",
    "    if root:\n",
    "        res = res + postorderTraversal(root.left)\n",
    "        res = res + postorderTraversal(root.right)\n",
    "        res.append(root.data)\n",
    "    return res"
   ]
  },
  {
   "cell_type": "code",
   "execution_count": 35,
   "metadata": {},
   "outputs": [
    {
     "data": {
      "text/plain": [
       "[10, 19, 14, 31, 42, 35, 27]"
      ]
     },
     "execution_count": 35,
     "metadata": {},
     "output_type": "execute_result"
    }
   ],
   "source": [
    "postorderTraversal(root)"
   ]
  },
  {
   "cell_type": "code",
   "execution_count": 36,
   "metadata": {},
   "outputs": [],
   "source": [
    "# Root -> Left -> Right\n",
    "# use flag\n",
    "def postorderTraversal(root):\n",
    "    output, node_stack = [], [(root, False)]\n",
    "    while len(node_stack) > 0:\n",
    "        n, visited = node_stack.pop()\n",
    "        if n:\n",
    "            if visited:\n",
    "                # add to result if visited\n",
    "                output.append(n.data)\n",
    "            else:\n",
    "                # post-order\n",
    "                node_stack.append((n, True))\n",
    "                node_stack.append((n.right, False))\n",
    "                node_stack.append((n.left, False))    \n",
    "    return output"
   ]
  },
  {
   "cell_type": "code",
   "execution_count": 37,
   "metadata": {},
   "outputs": [
    {
     "data": {
      "text/plain": [
       "[10, 19, 14, 31, 42, 35, 27]"
      ]
     },
     "execution_count": 37,
     "metadata": {},
     "output_type": "execute_result"
    }
   ],
   "source": [
    "postorderTraversal(root)"
   ]
  },
  {
   "cell_type": "markdown",
   "metadata": {},
   "source": [
    "### binary tree search:\n",
    "#### for a given value, return the node"
   ]
  },
  {
   "cell_type": "code",
   "execution_count": 101,
   "metadata": {},
   "outputs": [],
   "source": [
    "def searchBST(root, v):\n",
    "    if not root:\n",
    "        return None\n",
    "    if root.data == v:\n",
    "        return root\n",
    "    elif root.data < v:\n",
    "        return searchBST(root.right, v)\n",
    "    else:\n",
    "        return searchBST(root.left, v)"
   ]
  },
  {
   "cell_type": "code",
   "execution_count": 103,
   "metadata": {},
   "outputs": [
    {
     "name": "stdout",
     "output_type": "stream",
     "text": [
      "<__main__.Node object at 0x10a0594a8>\n",
      "None\n",
      "None\n"
     ]
    }
   ],
   "source": [
    "a = searchBST(root, 42)\n",
    "print(a)\n",
    "print(a.left)\n",
    "print(a.right)"
   ]
  },
  {
   "cell_type": "markdown",
   "metadata": {},
   "source": [
    "### Increasing Order Search Tree"
   ]
  },
  {
   "cell_type": "markdown",
   "metadata": {},
   "source": [
    "Given a tree, rearrange the tree in in-order so that the leftmost node in the tree is now the root of the tree, and every node has no left child and only 1 right child."
   ]
  },
  {
   "cell_type": "code",
   "execution_count": 65,
   "metadata": {},
   "outputs": [],
   "source": [
    "# Example 1:\n",
    "# Input: [5,3,6,2,4,null,8,1,null,null,null,7,9]\n",
    "\n",
    "#        5\n",
    "#       / \\\n",
    "#     3    6\n",
    "#    / \\    \\\n",
    "#   2   4    8\n",
    "#  /        / \\ \n",
    "# 1        7   9"
   ]
  },
  {
   "cell_type": "code",
   "execution_count": 66,
   "metadata": {},
   "outputs": [
    {
     "name": "stdout",
     "output_type": "stream",
     "text": [
      "1\n",
      "2\n",
      "3\n",
      "4\n",
      "5\n",
      "6\n",
      "7\n",
      "8\n",
      "9\n"
     ]
    }
   ],
   "source": [
    "t1 = Node(5)\n",
    "t1.left = Node(3)\n",
    "t1.right = Node(6)\n",
    "t1.left.left = Node(2)\n",
    "t1.left.right = Node(4)\n",
    "t1.right.right = Node(8)\n",
    "t1.left.left.left = Node(1)\n",
    "t1.right.right.left = Node(7)\n",
    "t1.right.right.right = Node(9)\n",
    "t1.PrintTree()"
   ]
  },
  {
   "cell_type": "code",
   "execution_count": 67,
   "metadata": {},
   "outputs": [],
   "source": [
    "def increasingBST(root):\n",
    "    head, leaf, node_stack = None, None, [(root, False)]\n",
    "    while len(node_stack) > 0:\n",
    "        n, visited = node_stack.pop()\n",
    "        if n:\n",
    "            if visited:\n",
    "                # add to result if visited\n",
    "                if not head:\n",
    "                    head = Node(n.data)\n",
    "                    leaf = head\n",
    "                else:\n",
    "                    leaf.right = Node(n.data)\n",
    "                    leaf = leaf.right\n",
    "            else:\n",
    "                # in-order\n",
    "                node_stack.append((n.right, False))\n",
    "                node_stack.append((n, True))\n",
    "                node_stack.append((n.left, False)) \n",
    "    leaf.left = None\n",
    "    leaf.right = None\n",
    "    return head"
   ]
  },
  {
   "cell_type": "code",
   "execution_count": 68,
   "metadata": {},
   "outputs": [],
   "source": [
    "h = increasingBST(t1)"
   ]
  },
  {
   "cell_type": "code",
   "execution_count": 69,
   "metadata": {},
   "outputs": [
    {
     "name": "stdout",
     "output_type": "stream",
     "text": [
      "1\n",
      "2\n",
      "3\n",
      "4\n",
      "5\n",
      "6\n",
      "7\n",
      "8\n",
      "9\n"
     ]
    }
   ],
   "source": [
    "h.PrintTree()"
   ]
  },
  {
   "cell_type": "code",
   "execution_count": 53,
   "metadata": {},
   "outputs": [
    {
     "name": "stdout",
     "output_type": "stream",
     "text": [
      "3\n",
      "5\n"
     ]
    }
   ],
   "source": [
    "t2 = Node(5)\n",
    "t2.left = Node(3)\n",
    "h = increasingBST(t2)\n",
    "h.PrintTree()"
   ]
  },
  {
   "cell_type": "markdown",
   "metadata": {},
   "source": [
    "### breadth first search"
   ]
  },
  {
   "cell_type": "code",
   "execution_count": 38,
   "metadata": {},
   "outputs": [],
   "source": [
    "# use queue\n",
    "def BFS(root):\n",
    "    output, node_queue = [], [root]    \n",
    "    while len(node_queue) > 0:\n",
    "        n = node_queue.pop(0) # dequeue\n",
    "        if n:\n",
    "            output.append(n.data)\n",
    "            node_queue.append(n.left)\n",
    "            node_queue.append(n.right)\n",
    "    return output  "
   ]
  },
  {
   "cell_type": "code",
   "execution_count": 39,
   "metadata": {},
   "outputs": [
    {
     "data": {
      "text/plain": [
       "[27, 14, 35, 10, 19, 31, 42]"
      ]
     },
     "execution_count": 39,
     "metadata": {},
     "output_type": "execute_result"
    }
   ],
   "source": [
    "BFS(root)"
   ]
  },
  {
   "cell_type": "code",
   "execution_count": null,
   "metadata": {},
   "outputs": [],
   "source": []
  },
  {
   "cell_type": "markdown",
   "metadata": {},
   "source": [
    "Given a binary tree, find its maximum depth.\n",
    "The maximum depth is the number of nodes along the longest path from the root node down to the farthest leaf node.\n",
    "Note: A leaf is a node with no children."
   ]
  },
  {
   "cell_type": "markdown",
   "metadata": {},
   "source": [
    "Solution 1: use recursion. "
   ]
  },
  {
   "cell_type": "code",
   "execution_count": 40,
   "metadata": {},
   "outputs": [],
   "source": [
    "def maxDepth(root):\n",
    "    if not root:\n",
    "        return 0\n",
    "    return 1 + max(maxDepth(root.left), maxDepth(root.right))"
   ]
  },
  {
   "cell_type": "code",
   "execution_count": 41,
   "metadata": {
    "scrolled": true
   },
   "outputs": [
    {
     "data": {
      "text/plain": [
       "3"
      ]
     },
     "execution_count": 41,
     "metadata": {},
     "output_type": "execute_result"
    }
   ],
   "source": [
    "maxDepth(root)"
   ]
  },
  {
   "cell_type": "markdown",
   "metadata": {},
   "source": [
    "Solution 2: use BFS:"
   ]
  },
  {
   "cell_type": "code",
   "execution_count": 42,
   "metadata": {},
   "outputs": [],
   "source": [
    "def maxDepthBFS(root):        \n",
    "    if not root:\n",
    "        return 0\n",
    "    depth, queue = 0, [root]\n",
    "    while len(queue) > 0:\n",
    "        depth = depth + 1\n",
    "        new_queue = []\n",
    "        for r in queue:\n",
    "            if r.left:\n",
    "                new_queue.append(r.left)\n",
    "            if r.right:\n",
    "                new_queue.append(r.right)\n",
    "        queue = new_queue\n",
    "    return depth"
   ]
  },
  {
   "cell_type": "code",
   "execution_count": 43,
   "metadata": {},
   "outputs": [
    {
     "data": {
      "text/plain": [
       "3"
      ]
     },
     "execution_count": 43,
     "metadata": {},
     "output_type": "execute_result"
    }
   ],
   "source": [
    "maxDepthBFS(root)"
   ]
  },
  {
   "cell_type": "markdown",
   "metadata": {},
   "source": [
    "Validate Binary Search Tree\n",
    "\n",
    "Given a binary tree, determine if it is a valid binary search tree (BST).\n",
    "\n",
    "Assume a BST is defined as follows:\n",
    "\n",
    "The left subtree of a node contains only nodes with keys less than the node's key.\n",
    "\n",
    "The right subtree of a node contains only nodes with keys greater than the node's key.\n",
    "\n",
    "Both the left and right subtrees must also be binary search trees."
   ]
  },
  {
   "cell_type": "code",
   "execution_count": 52,
   "metadata": {},
   "outputs": [],
   "source": [
    "# Solution 1\n",
    "def isValidBST(root):\n",
    "    if not root:\n",
    "        return True\n",
    "    if not root.left and not root.right:\n",
    "        return True\n",
    "    \n",
    "    if root.left and root.left.data < root.data and not root.right:\n",
    "        return isValidBST(root.left)\n",
    "    elif not root.left and root.right and root.right.data > root.data:\n",
    "        return isValidBST(root.right)\n",
    "    elif root.left and root.right and root.left.data < root.data and root.right.data > root.data:\n",
    "        return isValidBST(root.left) and isValidBST(root.right)\n",
    "    else:\n",
    "        return False"
   ]
  },
  {
   "cell_type": "code",
   "execution_count": 53,
   "metadata": {},
   "outputs": [
    {
     "data": {
      "text/plain": [
       "True"
      ]
     },
     "execution_count": 53,
     "metadata": {},
     "output_type": "execute_result"
    }
   ],
   "source": [
    "isValidBST(root)"
   ]
  },
  {
   "cell_type": "code",
   "execution_count": 54,
   "metadata": {},
   "outputs": [],
   "source": [
    "# Solution 2: in order travelsal"
   ]
  },
  {
   "cell_type": "code",
   "execution_count": null,
   "metadata": {},
   "outputs": [],
   "source": []
  },
  {
   "cell_type": "markdown",
   "metadata": {},
   "source": [
    "Merge Two Binary Trees\n",
    "\n",
    "Given two binary trees and imagine that when you put one of them to cover the other, some nodes of the two trees are overlapped while the others are not.\n",
    "\n",
    "You need to merge them into a new binary tree. The merge rule is that if two nodes overlap, then sum node values up as the new value of the merged node. Otherwise, the NOT null node will be used as the node of new tree."
   ]
  },
  {
   "cell_type": "code",
   "execution_count": 56,
   "metadata": {},
   "outputs": [],
   "source": [
    "# Example\n",
    "# Input: \n",
    "# \tTree 1                     Tree 2                  \n",
    "#           1                         2                             \n",
    "#          / \\                       / \\                            \n",
    "#         3   2                     1   3                        \n",
    "#        /                           \\   \\                      \n",
    "#       5                             4   7                  \n",
    "# Output: \n",
    "# Merged tree:\n",
    "# \t     3\n",
    "# \t    / \\\n",
    "# \t   4   5\n",
    "# \t  / \\   \\ \n",
    "# \t 5   4   7"
   ]
  },
  {
   "cell_type": "code",
   "execution_count": 84,
   "metadata": {
    "scrolled": true
   },
   "outputs": [
    {
     "name": "stdout",
     "output_type": "stream",
     "text": [
      "----------\n",
      "5\n",
      "3\n",
      "1\n",
      "2\n",
      "----------\n",
      "1\n",
      "4\n",
      "2\n",
      "3\n",
      "7\n"
     ]
    }
   ],
   "source": [
    "t1 = Node(1)\n",
    "t1.left = Node(3)\n",
    "t1.right = Node(2)\n",
    "t1.left.left = Node(5)\n",
    "\n",
    "t2 = Node(2)\n",
    "t2.left = Node(1)\n",
    "t2.right = Node(3)\n",
    "t2.left.right = Node(4)\n",
    "t2.right.right = Node(7)\n",
    "\n",
    "print('-'*10)\n",
    "t1.PrintTree()\n",
    "print('-'*10)\n",
    "t2.PrintTree()"
   ]
  },
  {
   "cell_type": "code",
   "execution_count": 86,
   "metadata": {},
   "outputs": [],
   "source": [
    "# solution 1: Recursion\n",
    "def mergeTrees(t1, t2):\n",
    "    # always make sure t1 is not none\n",
    "    if not t1:\n",
    "        t1, t2 = t2, t1\n",
    "    # if t2 is none, return t1\n",
    "    if not t2:\n",
    "        return t1\n",
    "    t1.data += t2.data\n",
    "    t1.left = mergeTrees(t1.left, t2.left)\n",
    "    t1.right = mergeTrees(t1.right, t2.right)\n",
    "    return t1"
   ]
  },
  {
   "cell_type": "code",
   "execution_count": 77,
   "metadata": {
    "scrolled": true
   },
   "outputs": [
    {
     "name": "stdout",
     "output_type": "stream",
     "text": [
      "5\n",
      "4\n",
      "4\n",
      "3\n",
      "5\n",
      "7\n"
     ]
    }
   ],
   "source": [
    "mergeTrees(t1, t2).PrintTree()"
   ]
  },
  {
   "cell_type": "code",
   "execution_count": 87,
   "metadata": {},
   "outputs": [],
   "source": [
    "t1 = Node(1)\n",
    "t1.left = Node(3)\n",
    "t1.right = Node(2)\n",
    "t1.left.left = Node(5)\n",
    "\n",
    "t2 = Node(2)\n",
    "t2.left = Node(1)\n",
    "t2.right = Node(3)\n",
    "t2.left.right = Node(4)\n",
    "t2.right.right = Node(7)"
   ]
  },
  {
   "cell_type": "code",
   "execution_count": 88,
   "metadata": {},
   "outputs": [],
   "source": [
    "# Solution 2: BFS\n",
    "def mergeTrees(t1, t2):\n",
    "    # always make sure t1 is not none\n",
    "    if not t1:\n",
    "        t1, t2 = t2, t1\n",
    "    # if t2 is none, return t1\n",
    "    if not t2:\n",
    "        return t1\n",
    "    queue1, queue2 = [t1], [t2]\n",
    "    while queue1 and queue2:\n",
    "        node1, node2 = queue1.pop(0), queue2.pop(0)\n",
    "        if node1 and node2:\n",
    "            node1.data = node1.data + node2.data\n",
    "            if (not node1.left) and node2.left:\n",
    "                node1.left = Node(0)\n",
    "            if (not node1.right) and node2.right:\n",
    "                node1.right = Node(0)\n",
    "            queue1.append(node1.left)\n",
    "            queue1.append(node1.right)\n",
    "            queue2.append(node2.left)\n",
    "            queue2.append(node2.right)\n",
    "    return t1"
   ]
  },
  {
   "cell_type": "code",
   "execution_count": 54,
   "metadata": {
    "scrolled": false
   },
   "outputs": [
    {
     "ename": "NameError",
     "evalue": "name 'mergeTrees' is not defined",
     "output_type": "error",
     "traceback": [
      "\u001b[0;31m---------------------------------------------------------------------------\u001b[0m",
      "\u001b[0;31mNameError\u001b[0m                                 Traceback (most recent call last)",
      "\u001b[0;32m<ipython-input-54-0e434e9e4d63>\u001b[0m in \u001b[0;36m<module>\u001b[0;34m\u001b[0m\n\u001b[0;32m----> 1\u001b[0;31m \u001b[0mmergeTrees\u001b[0m\u001b[0;34m(\u001b[0m\u001b[0mt1\u001b[0m\u001b[0;34m,\u001b[0m \u001b[0mt2\u001b[0m\u001b[0;34m)\u001b[0m\u001b[0;34m.\u001b[0m\u001b[0mPrintTree\u001b[0m\u001b[0;34m(\u001b[0m\u001b[0;34m)\u001b[0m\u001b[0;34m\u001b[0m\u001b[0;34m\u001b[0m\u001b[0m\n\u001b[0m",
      "\u001b[0;31mNameError\u001b[0m: name 'mergeTrees' is not defined"
     ]
    }
   ],
   "source": [
    "mergeTrees(t1, t2).PrintTree()"
   ]
  },
  {
   "cell_type": "code",
   "execution_count": null,
   "metadata": {},
   "outputs": [],
   "source": []
  },
  {
   "cell_type": "markdown",
   "metadata": {},
   "source": [
    "Serialization is the process of converting a data structure or object into a sequence of bits so that it can be stored in a file or memory buffer, or transmitted across a network connection link to be reconstructed later in the same or another computer environment.\n",
    "\n",
    "Design an algorithm to serialize and deserialize a binary tree. There is no restriction on how your serialization/deserialization algorithm should work. You just need to ensure that a binary tree can be serialized to a string and this string can be deserialized to the original tree structure."
   ]
  },
  {
   "cell_type": "code",
   "execution_count": 55,
   "metadata": {},
   "outputs": [],
   "source": [
    "# Example: \n",
    "# You may serialize the following tree:\n",
    "#     1\n",
    "#    / \\\n",
    "#   2   3\n",
    "#      / \\\n",
    "#     4   5\n",
    "# as \"[1,2,3,null,null,4,5]\""
   ]
  },
  {
   "cell_type": "code",
   "execution_count": 76,
   "metadata": {},
   "outputs": [
    {
     "name": "stdout",
     "output_type": "stream",
     "text": [
      "2\n",
      "1\n",
      "4\n",
      "3\n",
      "5\n"
     ]
    }
   ],
   "source": [
    "r1 = Node(1)\n",
    "r1.left = Node(2)\n",
    "r1.right = Node(3)\n",
    "r1.right.left = Node(4)\n",
    "r1.right.right = Node(5)\n",
    "r1.PrintTree()"
   ]
  },
  {
   "cell_type": "code",
   "execution_count": 77,
   "metadata": {},
   "outputs": [],
   "source": [
    "import collections\n",
    "def serialize(root):    \n",
    "    if not root: return \"\"\n",
    "    q = collections.deque([root])\n",
    "    res = []\n",
    "    while q:\n",
    "        node = q.popleft()\n",
    "        if node:\n",
    "            q.append(node.left)\n",
    "            q.append(node.right)\n",
    "        res.append(str(node.data) if node else '#')\n",
    "    return ','.join(res)"
   ]
  },
  {
   "cell_type": "code",
   "execution_count": 79,
   "metadata": {},
   "outputs": [
    {
     "data": {
      "text/plain": [
       "'1,2,3,#,#,4,5,#,#,#,#'"
      ]
     },
     "execution_count": 79,
     "metadata": {},
     "output_type": "execute_result"
    }
   ],
   "source": [
    "mystr = serialize(r1)\n",
    "mystr"
   ]
  },
  {
   "cell_type": "code",
   "execution_count": 83,
   "metadata": {},
   "outputs": [],
   "source": [
    "def deserialize(data):\n",
    "    if not data: return None\n",
    "    nodes = data.split(',')\n",
    "    root = Node(int(nodes[0]))\n",
    "    q = collections.deque([root])\n",
    "    index = 1\n",
    "    while q:\n",
    "        print('1111111')\n",
    "        print(index)\n",
    "        node = q.popleft()\n",
    "        if nodes[index] is not '#':\n",
    "            node.left = Node(int(nodes[index]))\n",
    "            q.append(node.left)\n",
    "        index += 1\n",
    "\n",
    "        if nodes[index] is not '#':\n",
    "            node.right = Node(int(nodes[index]))\n",
    "            q.append(node.right)\n",
    "        index += 1\n",
    "    return root"
   ]
  },
  {
   "cell_type": "code",
   "execution_count": 84,
   "metadata": {},
   "outputs": [
    {
     "name": "stdout",
     "output_type": "stream",
     "text": [
      "1111111\n",
      "1\n",
      "1111111\n",
      "3\n",
      "1111111\n",
      "5\n",
      "1111111\n",
      "7\n",
      "1111111\n",
      "9\n",
      "2\n",
      "1\n",
      "4\n",
      "3\n",
      "5\n"
     ]
    }
   ],
   "source": [
    "deserialize(serialize(r1)).PrintTree()"
   ]
  },
  {
   "cell_type": "code",
   "execution_count": null,
   "metadata": {},
   "outputs": [],
   "source": []
  },
  {
   "cell_type": "code",
   "execution_count": null,
   "metadata": {},
   "outputs": [],
   "source": []
  },
  {
   "cell_type": "code",
   "execution_count": null,
   "metadata": {},
   "outputs": [],
   "source": []
  }
 ],
 "metadata": {
  "kernelspec": {
   "display_name": "Python 3",
   "language": "python",
   "name": "python3"
  },
  "language_info": {
   "codemirror_mode": {
    "name": "ipython",
    "version": 3
   },
   "file_extension": ".py",
   "mimetype": "text/x-python",
   "name": "python",
   "nbconvert_exporter": "python",
   "pygments_lexer": "ipython3",
   "version": "3.7.3"
  }
 },
 "nbformat": 4,
 "nbformat_minor": 2
}
