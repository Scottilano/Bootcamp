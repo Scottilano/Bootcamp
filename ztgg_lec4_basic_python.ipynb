{
 "cells": [
  {
   "cell_type": "markdown",
   "metadata": {},
   "source": [
    "# Useful packages for Python\n",
    "* NumPy SciPy Pandas - fast data processing and calculation\n",
    "* Matplotlib Seaborn Bokeh Plotly - data visualization\n",
    "* SciKit-Learn Keras TensorFlow Theano - Machine Learning and Deep Learning\n",
    "* Gensim NLTK - Natural Language Processing\n",
    "* Scrapy Statsmodels BeautifulSoup - Data Mining, Statistics"
   ]
  },
  {
   "cell_type": "markdown",
   "metadata": {},
   "source": [
    "### how to import a package"
   ]
  },
  {
   "cell_type": "code",
   "execution_count": 2,
   "metadata": {},
   "outputs": [],
   "source": [
    "import numpy as np # np is an alias for the numpy package"
   ]
  },
  {
   "cell_type": "code",
   "execution_count": 3,
   "metadata": {},
   "outputs": [],
   "source": [
    "numbers = np.array([3, 4, 20, 15, 7, 19, 0]) # works fine"
   ]
  },
  {
   "cell_type": "code",
   "execution_count": 4,
   "metadata": {},
   "outputs": [
    {
     "data": {
      "text/plain": [
       "numpy.ndarray"
      ]
     },
     "execution_count": 4,
     "metadata": {},
     "output_type": "execute_result"
    }
   ],
   "source": [
    "type(numbers) # numpy.ndarray"
   ]
  },
  {
   "cell_type": "code",
   "execution_count": 6,
   "metadata": {
    "scrolled": true
   },
   "outputs": [],
   "source": [
    "numbers = np.array([3, 4, 20, 15, 7, 19, 0]) # NameError: name 'numpy' is not defined"
   ]
  },
  {
   "cell_type": "code",
   "execution_count": 7,
   "metadata": {},
   "outputs": [
    {
     "data": {
      "text/plain": [
       "['In',\n",
       " 'Out',\n",
       " '_',\n",
       " '_5',\n",
       " '__',\n",
       " '___',\n",
       " '__builtin__',\n",
       " '__builtins__',\n",
       " '__doc__',\n",
       " '__loader__',\n",
       " '__name__',\n",
       " '__package__',\n",
       " '__spec__',\n",
       " '_dh',\n",
       " '_i',\n",
       " '_i1',\n",
       " '_i2',\n",
       " '_i3',\n",
       " '_i4',\n",
       " '_i5',\n",
       " '_i6',\n",
       " '_i7',\n",
       " '_ih',\n",
       " '_ii',\n",
       " '_iii',\n",
       " '_oh',\n",
       " 'exit',\n",
       " 'get_ipython',\n",
       " 'np',\n",
       " 'numbers',\n",
       " 'quit']"
      ]
     },
     "execution_count": 7,
     "metadata": {},
     "output_type": "execute_result"
    }
   ],
   "source": [
    "dir()"
   ]
  },
  {
   "cell_type": "markdown",
   "metadata": {},
   "source": [
    "### import the \"pyplot\" submodule from the \"matplotlib\" package with alias \"plt\""
   ]
  },
  {
   "cell_type": "code",
   "execution_count": 5,
   "metadata": {},
   "outputs": [
    {
     "name": "stderr",
     "output_type": "stream",
     "text": [
      "Matplotlib is building the font cache using fc-list. This may take a moment.\n"
     ]
    }
   ],
   "source": [
    "import matplotlib.pyplot as plt"
   ]
  },
  {
   "cell_type": "markdown",
   "metadata": {},
   "source": [
    "# Jupyter Magics"
   ]
  },
  {
   "cell_type": "markdown",
   "metadata": {},
   "source": [
    "### change jupyter theme"
   ]
  },
  {
   "cell_type": "code",
   "execution_count": 7,
   "metadata": {},
   "outputs": [
    {
     "name": "stdout",
     "output_type": "stream",
     "text": [
      "Python 3.7.4\r\n"
     ]
    }
   ],
   "source": [
    "!python -V"
   ]
  },
  {
   "cell_type": "code",
   "execution_count": 9,
   "metadata": {},
   "outputs": [
    {
     "name": "stdout",
     "output_type": "stream",
     "text": [
      "Requirement already satisfied: scipy in /Users/Gabrielle/anaconda3/lib/python3.7/site-packages (1.3.0)\r\n"
     ]
    }
   ],
   "source": [
    "!pip install scipy"
   ]
  },
  {
   "cell_type": "code",
   "execution_count": 2,
   "metadata": {},
   "outputs": [],
   "source": [
    "??help"
   ]
  },
  {
   "cell_type": "markdown",
   "metadata": {},
   "source": [
    "# Common data types in Python\n",
    "* float - used for real numbers\n",
    "* int - used for integers\n",
    "* str - used for texts \n",
    "    - Defined using single quotes OR double quotes OR triple quotes \n",
    "    - The triple quoted strings can be on multiple lines (mostly used for documentation or html)\n",
    "* bool - used for truthy values\n",
    "    - Useful to perform a filtering operation on a data\n",
    "* list - used to store a collection of values\n",
    "* dict - used to store a key-values pairs\n",
    "* set - dictionary without values, or a collection of keys\n"
   ]
  },
  {
   "cell_type": "code",
   "execution_count": 9,
   "metadata": {},
   "outputs": [],
   "source": [
    "# reading, trycky python\n",
    "# https://medium.com/@tyastropheus/tricky-python-ii-parameter-passing-for-mutable-immutable-objects-10e968cbda35"
   ]
  },
  {
   "cell_type": "markdown",
   "metadata": {},
   "source": [
    "# List indexing: list[i] -> i+1 th element in the list\n"
   ]
  },
  {
   "cell_type": "code",
   "execution_count": 10,
   "metadata": {},
   "outputs": [],
   "source": [
    "fruits = [\"pineapple\", \"apple\", \"lemon\", \"strawberry\", \"orange\", \"kiwi\"]"
   ]
  },
  {
   "cell_type": "code",
   "execution_count": 13,
   "metadata": {},
   "outputs": [
    {
     "data": {
      "text/plain": [
       "'apple'"
      ]
     },
     "execution_count": 13,
     "metadata": {},
     "output_type": "execute_result"
    }
   ],
   "source": [
    "fruits[1]  # apple"
   ]
  },
  {
   "cell_type": "code",
   "execution_count": 14,
   "metadata": {},
   "outputs": [
    {
     "data": {
      "text/plain": [
       "'pineapple'"
      ]
     },
     "execution_count": 14,
     "metadata": {},
     "output_type": "execute_result"
    }
   ],
   "source": [
    "fruits[0]  # \"pineapple\""
   ]
  },
  {
   "cell_type": "code",
   "execution_count": 15,
   "metadata": {},
   "outputs": [
    {
     "data": {
      "text/plain": [
       "'kiwi'"
      ]
     },
     "execution_count": 15,
     "metadata": {},
     "output_type": "execute_result"
    }
   ],
   "source": [
    "fruits[-1] # \"kiwi\""
   ]
  },
  {
   "cell_type": "code",
   "execution_count": 16,
   "metadata": {},
   "outputs": [
    {
     "data": {
      "text/plain": [
       "'kiwi'"
      ]
     },
     "execution_count": 16,
     "metadata": {},
     "output_type": "execute_result"
    }
   ],
   "source": [
    "fruits[5]  # \"kiwi\""
   ]
  },
  {
   "cell_type": "code",
   "execution_count": 17,
   "metadata": {},
   "outputs": [
    {
     "data": {
      "text/plain": [
       "'strawberry'"
      ]
     },
     "execution_count": 17,
     "metadata": {},
     "output_type": "execute_result"
    }
   ],
   "source": [
    "fruits[-3] # \"strawberry\""
   ]
  },
  {
   "cell_type": "markdown",
   "metadata": {},
   "source": [
    "### List slicing: <code>list[i:j:s]</code> - step(s) is optional, and j th element is not included"
   ]
  },
  {
   "cell_type": "code",
   "execution_count": 18,
   "metadata": {},
   "outputs": [
    {
     "data": {
      "text/plain": [
       "['pineapple', 'apple', 'lemon', 'strawberry', 'orange', 'kiwi']"
      ]
     },
     "execution_count": 18,
     "metadata": {},
     "output_type": "execute_result"
    }
   ],
   "source": [
    "fruits[::]    # [\"pineapple\", \"apple\", \"lemon\", \"strawberry\", \"orange\", \"kiwi\"]"
   ]
  },
  {
   "cell_type": "code",
   "execution_count": 19,
   "metadata": {},
   "outputs": [
    {
     "data": {
      "text/plain": [
       "['pineapple', 'apple']"
      ]
     },
     "execution_count": 19,
     "metadata": {},
     "output_type": "execute_result"
    }
   ],
   "source": [
    "fruits[0:2]   # [\"pineapple\", \"apple\"]"
   ]
  },
  {
   "cell_type": "code",
   "execution_count": 20,
   "metadata": {},
   "outputs": [
    {
     "data": {
      "text/plain": [
       "['orange']"
      ]
     },
     "execution_count": 20,
     "metadata": {},
     "output_type": "execute_result"
    }
   ],
   "source": [
    "fruits[-2:-1] # [\"orange\"]"
   ]
  },
  {
   "cell_type": "code",
   "execution_count": 23,
   "metadata": {},
   "outputs": [
    {
     "data": {
      "text/plain": [
       "['strawberry', 'orange', 'kiwi']"
      ]
     },
     "execution_count": 23,
     "metadata": {},
     "output_type": "execute_result"
    }
   ],
   "source": [
    "fruits[3:]    # [\"strawberry\", \"orange\", \"kiwi\"]"
   ]
  },
  {
   "cell_type": "code",
   "execution_count": 15,
   "metadata": {},
   "outputs": [
    {
     "data": {
      "text/plain": [
       "['pineapple', 'apple', 'lemon', 'strawberry']"
      ]
     },
     "execution_count": 15,
     "metadata": {},
     "output_type": "execute_result"
    }
   ],
   "source": [
    "fruits[:4]    # [\"pineapple\", \"apple\", \"lemon\", \"strawberry\"]"
   ]
  },
  {
   "cell_type": "code",
   "execution_count": 16,
   "metadata": {},
   "outputs": [
    {
     "data": {
      "text/plain": [
       "['pineapple', 'apple', 'lemon', 'strawberry', 'orange', 'kiwi']"
      ]
     },
     "execution_count": 16,
     "metadata": {},
     "output_type": "execute_result"
    }
   ],
   "source": [
    "fruits[:]     # [\"pineapple\", \"apple\", \"lemon\", \"strawberry\", \"orange\", \"kiwi\"]"
   ]
  },
  {
   "cell_type": "code",
   "execution_count": 17,
   "metadata": {},
   "outputs": [
    {
     "data": {
      "text/plain": [
       "['kiwi', 'orange', 'strawberry', 'lemon', 'apple', 'pineapple']"
      ]
     },
     "execution_count": 17,
     "metadata": {},
     "output_type": "execute_result"
    }
   ],
   "source": [
    "fruits[::-1]  # [\"kiwi\", \"orange\", \"strawberry\", \"lemon\", \"apple\", \"pineapple\"]"
   ]
  },
  {
   "cell_type": "code",
   "execution_count": 18,
   "metadata": {},
   "outputs": [
    {
     "data": {
      "text/plain": [
       "['kiwi', 'strawberry', 'apple']"
      ]
     },
     "execution_count": 18,
     "metadata": {},
     "output_type": "execute_result"
    }
   ],
   "source": [
    "fruits[::-2]  # [\"kiwi\", \"strawberry\", \"apple\"]"
   ]
  },
  {
   "cell_type": "code",
   "execution_count": 19,
   "metadata": {},
   "outputs": [
    {
     "data": {
      "text/plain": [
       "['pineapple', 'lemon', 'orange']"
      ]
     },
     "execution_count": 19,
     "metadata": {},
     "output_type": "execute_result"
    }
   ],
   "source": [
    "fruits[::2]   # [\"pineapple\", \"lemon\", \"orange\"]"
   ]
  },
  {
   "cell_type": "markdown",
   "metadata": {},
   "source": [
    "### Understanding some default values"
   ]
  },
  {
   "cell_type": "code",
   "execution_count": 20,
   "metadata": {},
   "outputs": [
    {
     "data": {
      "text/plain": [
       "['pineapple', 'apple', 'lemon', 'strawberry', 'orange', 'kiwi']"
      ]
     },
     "execution_count": 20,
     "metadata": {},
     "output_type": "execute_result"
    }
   ],
   "source": [
    "fruits[0:6:1]    # the same result as the result from fruits[::]"
   ]
  },
  {
   "cell_type": "code",
   "execution_count": 21,
   "metadata": {},
   "outputs": [
    {
     "data": {
      "text/plain": [
       "['kiwi', 'orange', 'strawberry', 'lemon', 'apple', 'pineapple']"
      ]
     },
     "execution_count": 21,
     "metadata": {},
     "output_type": "execute_result"
    }
   ],
   "source": [
    "fruits[-1:-7:-1] # the same result as the result from fruits[::-1]"
   ]
  },
  {
   "cell_type": "markdown",
   "metadata": {},
   "source": [
    "# List manipulation"
   ]
  },
  {
   "cell_type": "markdown",
   "metadata": {},
   "source": [
    "### Add values to a list"
   ]
  },
  {
   "cell_type": "code",
   "execution_count": 33,
   "metadata": {},
   "outputs": [
    {
     "name": "stdout",
     "output_type": "stream",
     "text": [
      "4695361088\n",
      "['pineapple', 'apple', 'lemon', 'strawberry', 'orange', 'kiwi', 'peach', 'peach', 'banana', 'fig', 'melon', 'peach', 'banana', 'fig', 'melon', 'peach', 'banana', 'peach', 'banana']\n",
      "4695361088\n"
     ]
    }
   ],
   "source": [
    "print(id(fruits))\n",
    "fruits.append(\"peach\")\n",
    "fruits.append(\"banana\")\n",
    "print(fruits) # [\"pineapple\", \"apple\", \"lemon\", \"strawberry\", \"orange\", \"kiwi\", \"peach\"]\n",
    "print(id(fruits))"
   ]
  },
  {
   "cell_type": "code",
   "execution_count": 34,
   "metadata": {},
   "outputs": [
    {
     "data": {
      "text/plain": [
       "['pineapple',\n",
       " 'apple',\n",
       " 'lemon',\n",
       " 'strawberry',\n",
       " 'orange',\n",
       " 'kiwi',\n",
       " 'peach',\n",
       " 'peach',\n",
       " 'banana',\n",
       " 'fig',\n",
       " 'melon',\n",
       " 'peach',\n",
       " 'banana',\n",
       " 'fig',\n",
       " 'melon',\n",
       " 'peach',\n",
       " 'banana',\n",
       " 'peach',\n",
       " 'banana',\n",
       " 'fig',\n",
       " 'melon']"
      ]
     },
     "execution_count": 34,
     "metadata": {},
     "output_type": "execute_result"
    }
   ],
   "source": [
    "fruits = fruits + [\"fig\", \"melon\"]\n",
    "fruits # [\"pineapple\", \"apple\", \"lemon\", \"strawberry\", \"orange\", \"kiwi\", \"peach\", \"fig\", \"melon\"]"
   ]
  },
  {
   "cell_type": "code",
   "execution_count": 31,
   "metadata": {},
   "outputs": [
    {
     "name": "stdout",
     "output_type": "stream",
     "text": [
      "4695361088\n"
     ]
    }
   ],
   "source": [
    "print(id(fruits))"
   ]
  },
  {
   "cell_type": "markdown",
   "metadata": {},
   "source": [
    "### Change values from a list"
   ]
  },
  {
   "cell_type": "code",
   "execution_count": 35,
   "metadata": {},
   "outputs": [
    {
     "data": {
      "text/plain": [
       "['grape',\n",
       " 'mango',\n",
       " 'lemon',\n",
       " 'strawberry',\n",
       " 'orange',\n",
       " 'kiwi',\n",
       " 'peach',\n",
       " 'peach',\n",
       " 'banana',\n",
       " 'fig',\n",
       " 'melon',\n",
       " 'peach',\n",
       " 'banana',\n",
       " 'fig',\n",
       " 'melon',\n",
       " 'peach',\n",
       " 'banana',\n",
       " 'peach',\n",
       " 'banana',\n",
       " 'fig',\n",
       " 'melon']"
      ]
     },
     "execution_count": 35,
     "metadata": {},
     "output_type": "execute_result"
    }
   ],
   "source": [
    "fruits[0:2] = [\"grape\", \"mango\"]\n",
    "fruits # [\"grape\", \"mango\", \"lemon\", \"strawberry\", \"orange\", \"kiwi\", \"peach\", \"fig\", \"melon\"]"
   ]
  },
  {
   "cell_type": "markdown",
   "metadata": {},
   "source": [
    "### Delete values from a list"
   ]
  },
  {
   "cell_type": "code",
   "execution_count": 30,
   "metadata": {},
   "outputs": [
    {
     "data": {
      "text/plain": [
       "['grape',\n",
       " 'lemon',\n",
       " 'strawberry',\n",
       " 'orange',\n",
       " 'kiwi',\n",
       " 'peach',\n",
       " 'peach',\n",
       " 'peach',\n",
       " 'peach',\n",
       " 'peach',\n",
       " 'fig',\n",
       " 'melon']"
      ]
     },
     "execution_count": 30,
     "metadata": {},
     "output_type": "execute_result"
    }
   ],
   "source": [
    "fruits.remove(\"mango\")\n",
    "fruits # [\"grape\", \"lemon\", \"strawberry\", \"orange\", \"kiwi\", \"peach\", \"fig\", \"melon\"]"
   ]
  },
  {
   "cell_type": "code",
   "execution_count": 31,
   "metadata": {},
   "outputs": [
    {
     "data": {
      "text/plain": [
       "['grape',\n",
       " 'lemon',\n",
       " 'strawberry',\n",
       " 'orange',\n",
       " 'kiwi',\n",
       " 'peach',\n",
       " 'peach',\n",
       " 'peach',\n",
       " 'peach',\n",
       " 'fig',\n",
       " 'melon']"
      ]
     },
     "execution_count": 31,
     "metadata": {},
     "output_type": "execute_result"
    }
   ],
   "source": [
    "fruits.remove(\"peach\")\n",
    "fruits"
   ]
  },
  {
   "cell_type": "markdown",
   "metadata": {},
   "source": [
    "# understand how list works behind the scene\n",
    "### a copy was made for the reference of that list"
   ]
  },
  {
   "cell_type": "code",
   "execution_count": 1,
   "metadata": {},
   "outputs": [],
   "source": [
    "numbers = [10, 42, 28, 420]\n",
    "numbers_copy = numbers\n",
    "numbers_copy[2] = 100"
   ]
  },
  {
   "cell_type": "code",
   "execution_count": 2,
   "metadata": {},
   "outputs": [
    {
     "name": "stdout",
     "output_type": "stream",
     "text": [
      "[10, 42, 100, 420]\n",
      "[10, 42, 100, 420]\n"
     ]
    }
   ],
   "source": [
    "print(numbers)      # [10, 42, 100, 420]\n",
    "print(numbers_copy) # [10, 42, 100, 420]"
   ]
  },
  {
   "cell_type": "markdown",
   "metadata": {},
   "source": [
    "### a new list was generated with the same values"
   ]
  },
  {
   "cell_type": "code",
   "execution_count": 3,
   "metadata": {},
   "outputs": [],
   "source": [
    "ratings = [4.5, 5.0, 3.5, 4.75, 4.00]\n",
    "ratings_copy = ratings[:]\n",
    "ratings_copy[0] = 2.0"
   ]
  },
  {
   "cell_type": "code",
   "execution_count": 5,
   "metadata": {},
   "outputs": [
    {
     "name": "stdout",
     "output_type": "stream",
     "text": [
      "[4.5, 5.0, 3.5, 4.75, 4.0]\n",
      "[4.5, 5.0, 3.5, 4.75, 4.0]\n",
      "[2.0, 5.0, 3.5, 4.75, 4.0]\n"
     ]
    }
   ],
   "source": [
    "print(ratings)      # [4.5, 5.0, 3.5, 4.75, 4.0]\n",
    "print(ratings[:])\n",
    "print(ratings_copy) # [2.0, 5.0, 3.5, 4.75, 4.0]"
   ]
  },
  {
   "cell_type": "markdown",
   "metadata": {},
   "source": [
    "### list.copy() method - Python 3 only"
   ]
  },
  {
   "cell_type": "code",
   "execution_count": 6,
   "metadata": {
    "scrolled": true
   },
   "outputs": [
    {
     "name": "stdout",
     "output_type": "stream",
     "text": [
      "[1, 2, 3]\n",
      "[2, 2, 3]\n"
     ]
    }
   ],
   "source": [
    "a = [1,2,3]\n",
    "b = a.copy()\n",
    "b[0] = 2\n",
    "print(a)\n",
    "print(b)"
   ]
  },
  {
   "cell_type": "markdown",
   "metadata": {},
   "source": [
    "### copy nested lists use copy.deepcopy"
   ]
  },
  {
   "cell_type": "code",
   "execution_count": 7,
   "metadata": {},
   "outputs": [
    {
     "name": "stdout",
     "output_type": "stream",
     "text": [
      "[[1, 2], [3, 4]]\n",
      "[[1, 2], [3, 4]]\n"
     ]
    }
   ],
   "source": [
    "from copy import deepcopy\n",
    "l = [[1,2,],[3,4]]\n",
    "l_copy = deepcopy(l)\n",
    "print(l_copy)\n",
    "print(l.copy())"
   ]
  },
  {
   "cell_type": "markdown",
   "metadata": {},
   "source": [
    "### list function also creates a new list instead of copying the reference"
   ]
  },
  {
   "cell_type": "code",
   "execution_count": 8,
   "metadata": {},
   "outputs": [],
   "source": [
    "characters = [\"A\", \"B\", \"C\"]\n",
    "characters_copy = list(characters)\n",
    "characters_copy[-1] = \"D\""
   ]
  },
  {
   "cell_type": "code",
   "execution_count": 9,
   "metadata": {},
   "outputs": [
    {
     "name": "stdout",
     "output_type": "stream",
     "text": [
      "['A', 'B', 'C']\n",
      "['A', 'B', 'D']\n"
     ]
    }
   ],
   "source": [
    "print(characters)      # [\"A\", \"B\", \"C\"]\n",
    "print(characters_copy) # [\"A\", \"B\", \"D\"]"
   ]
  },
  {
   "cell_type": "markdown",
   "metadata": {},
   "source": [
    "# dictionary is collection of key-value pairs - similar to HashMap/unordered_map in Java/C++"
   ]
  },
  {
   "cell_type": "markdown",
   "metadata": {},
   "source": [
    "### suppose you have (movie, rating) data and want fast access to the rating by movie names in O(1) runtime\n",
    "### something you need to do if using list"
   ]
  },
  {
   "cell_type": "code",
   "execution_count": 10,
   "metadata": {},
   "outputs": [
    {
     "name": "stdout",
     "output_type": "stream",
     "text": [
      "6.8\n"
     ]
    }
   ],
   "source": [
    "movies = [\"Ex Machina\", \"Mad Max: Fury Road\", \"1408\"]\n",
    "ratings = [7.7, 8.1, 6.8]\n",
    "movie_choice_index = movies.index(\"1408\")\n",
    "print(ratings[movie_choice_index]) # 7.7"
   ]
  },
  {
   "cell_type": "markdown",
   "metadata": {},
   "source": [
    "### dict comes to the rescue with intuitive and convenient code"
   ]
  },
  {
   "cell_type": "code",
   "execution_count": 19,
   "metadata": {},
   "outputs": [
    {
     "name": "stdout",
     "output_type": "stream",
     "text": [
      "6.8\n"
     ]
    }
   ],
   "source": [
    "ratings = {\n",
    "   \"Ex Machina\": 7.7,\n",
    "   \"Mad Max: Fury Road\": 8.1,\n",
    "   \"1408\" : 6.8\n",
    "}\n",
    "print(ratings[\"1408\"]) # 7.7"
   ]
  },
  {
   "cell_type": "code",
   "execution_count": 20,
   "metadata": {},
   "outputs": [
    {
     "data": {
      "text/plain": [
       "[]"
      ]
     },
     "execution_count": 20,
     "metadata": {},
     "output_type": "execute_result"
    }
   ],
   "source": [
    "ratings = {}\n",
    "list1 = []\n",
    "list1"
   ]
  },
  {
   "cell_type": "markdown",
   "metadata": {},
   "source": [
    "### dictionary operations - add, modify, delete, and check existence of keys"
   ]
  },
  {
   "cell_type": "code",
   "execution_count": 21,
   "metadata": {},
   "outputs": [
    {
     "name": "stdout",
     "output_type": "stream",
     "text": [
      "{'2012': 10.0}\n"
     ]
    }
   ],
   "source": [
    "ratings[\"2012\"] = 10.0\n",
    "print(ratings) # {'Ex Machina': 7.7, 'Mad Max: Fury Road': 8.1, '1408': 6.8, 'Deadpool': 8.0}"
   ]
  },
  {
   "cell_type": "code",
   "execution_count": 22,
   "metadata": {},
   "outputs": [
    {
     "name": "stdout",
     "output_type": "stream",
     "text": [
      "{'2012': 9.8}\n"
     ]
    }
   ],
   "source": [
    "ratings[\"2012\"] = 9.8\n",
    "print(ratings) # {'Ex Machina': 7.8, 'Mad Max: Fury Road': 8.1, '1408': 6.8, 'Deadpool': 8.0}"
   ]
  },
  {
   "cell_type": "code",
   "execution_count": 23,
   "metadata": {},
   "outputs": [
    {
     "name": "stdout",
     "output_type": "stream",
     "text": [
      "{}\n"
     ]
    }
   ],
   "source": [
    "del(ratings[\"2012\"])\n",
    "print(ratings) # {'Ex Machina': 7.8, 'Mad Max: Fury Road': 8.1, 'Deadpool': 8.0}"
   ]
  },
  {
   "cell_type": "code",
   "execution_count": 24,
   "metadata": {},
   "outputs": [
    {
     "name": "stdout",
     "output_type": "stream",
     "text": [
      "False\n"
     ]
    }
   ],
   "source": [
    "print(\"2012\" in ratings) # True"
   ]
  },
  {
   "cell_type": "code",
   "execution_count": 25,
   "metadata": {},
   "outputs": [
    {
     "name": "stdout",
     "output_type": "stream",
     "text": [
      "False\n"
     ]
    }
   ],
   "source": [
    "print(\"1408\" in ratings) # True"
   ]
  },
  {
   "cell_type": "markdown",
   "metadata": {},
   "source": [
    "# function definition in Python "
   ]
  },
  {
   "cell_type": "code",
   "execution_count": 26,
   "metadata": {},
   "outputs": [],
   "source": [
    "def is_prime(n):\n",
    "   if n <= 1:\n",
    "       return False\n",
    "   elif n <= 3:\n",
    "       return True\n",
    "   elif n % 2 == 0 or n % 3 == 0:\n",
    "       return False\n",
    "   current_number = 5\n",
    "   while current_number * current_number <= n:\n",
    "       if n % current_number == 0 or n % (current_number + 2) == 0:\n",
    "           return False\n",
    "       current_number = current_number + 6\n",
    "   return True"
   ]
  },
  {
   "cell_type": "code",
   "execution_count": 27,
   "metadata": {},
   "outputs": [],
   "source": [
    "# e.g, 5, 6, 7, 8, 9, 10\n",
    "# no need to check 6, 8, 9, 10, because they are the multiples of 2, 3, 5.\n",
    "# 11, 12, 13, 14, 15, 16\n",
    "# no need to check 12, 14, 15, 16, because they are the multiples of 2, 3, 5."
   ]
  },
  {
   "cell_type": "code",
   "execution_count": 28,
   "metadata": {},
   "outputs": [
    {
     "data": {
      "text/plain": [
       "True"
      ]
     },
     "execution_count": 28,
     "metadata": {},
     "output_type": "execute_result"
    }
   ],
   "source": [
    "is_prime(113)"
   ]
  },
  {
   "cell_type": "code",
   "execution_count": 29,
   "metadata": {},
   "outputs": [
    {
     "ename": "TypeError",
     "evalue": "is_prime() missing 1 required positional argument: 'n'",
     "output_type": "error",
     "traceback": [
      "\u001b[0;31m---------------------------------------------------------------------------\u001b[0m",
      "\u001b[0;31mTypeError\u001b[0m                                 Traceback (most recent call last)",
      "\u001b[0;32m<ipython-input-29-e557bedaf598>\u001b[0m in \u001b[0;36m<module>\u001b[0;34m\u001b[0m\n\u001b[0;32m----> 1\u001b[0;31m \u001b[0mis_prime\u001b[0m\u001b[0;34m(\u001b[0m\u001b[0;34m)\u001b[0m\u001b[0;34m\u001b[0m\u001b[0;34m\u001b[0m\u001b[0m\n\u001b[0m",
      "\u001b[0;31mTypeError\u001b[0m: is_prime() missing 1 required positional argument: 'n'"
     ]
    }
   ],
   "source": [
    "is_prime()"
   ]
  },
  {
   "cell_type": "markdown",
   "metadata": {},
   "source": [
    "# methods in Python "
   ]
  },
  {
   "cell_type": "markdown",
   "metadata": {},
   "source": [
    "### String methods"
   ]
  },
  {
   "cell_type": "code",
   "execution_count": 30,
   "metadata": {},
   "outputs": [
    {
     "name": "stdout",
     "output_type": "stream",
     "text": [
      "DATA SCIENCE\n",
      "data science\n",
      "Data science\n"
     ]
    }
   ],
   "source": [
    "text = \"Data Science\"\n",
    "print(text.upper()) # \"DATA SCIENCE\"\n",
    "print(text.lower()) # \"data science\"\n",
    "print(text.capitalize()) # \"Data science\""
   ]
  },
  {
   "cell_type": "markdown",
   "metadata": {},
   "source": [
    "### Lists methodsLists methods"
   ]
  },
  {
   "cell_type": "code",
   "execution_count": 31,
   "metadata": {},
   "outputs": [
    {
     "name": "stdout",
     "output_type": "stream",
     "text": [
      "[10, 9, 9, 2, 0, 4, 1]\n"
     ]
    }
   ],
   "source": [
    "numbers = [1, 4, 0, 2, 9, 9, 10]\n",
    "numbers.reverse()\n",
    "#numbers[::-1]\n",
    "print(numbers) # [10, 9, 9, 2, 0, 4, 1]"
   ]
  },
  {
   "cell_type": "code",
   "execution_count": 32,
   "metadata": {},
   "outputs": [
    {
     "name": "stdout",
     "output_type": "stream",
     "text": [
      "[0, 1, 2, 4, 9, 9, 10]\n"
     ]
    }
   ],
   "source": [
    "numbers.sort()\n",
    "print(numbers) # [0, 1, 2, 4, 9, 9, 10]"
   ]
  },
  {
   "cell_type": "code",
   "execution_count": 33,
   "metadata": {},
   "outputs": [
    {
     "ename": "NameError",
     "evalue": "name 'fruits' is not defined",
     "output_type": "error",
     "traceback": [
      "\u001b[0;31m---------------------------------------------------------------------------\u001b[0m",
      "\u001b[0;31mNameError\u001b[0m                                 Traceback (most recent call last)",
      "\u001b[0;32m<ipython-input-33-65868f07e603>\u001b[0m in \u001b[0;36m<module>\u001b[0;34m\u001b[0m\n\u001b[0;32m----> 1\u001b[0;31m \u001b[0mb\u001b[0m \u001b[0;34m=\u001b[0m \u001b[0mfruits\u001b[0m\u001b[0;34m.\u001b[0m\u001b[0mreverse\u001b[0m\u001b[0;34m(\u001b[0m\u001b[0;34m)\u001b[0m\u001b[0;34m\u001b[0m\u001b[0;34m\u001b[0m\u001b[0m\n\u001b[0m\u001b[1;32m      2\u001b[0m \u001b[0mprint\u001b[0m\u001b[0;34m(\u001b[0m\u001b[0mb\u001b[0m\u001b[0;34m)\u001b[0m\u001b[0;34m\u001b[0m\u001b[0;34m\u001b[0m\u001b[0m\n",
      "\u001b[0;31mNameError\u001b[0m: name 'fruits' is not defined"
     ]
    }
   ],
   "source": [
    "b = fruits.reverse()\n",
    "print(b)"
   ]
  },
  {
   "cell_type": "markdown",
   "metadata": {},
   "source": [
    "### Dictionary methods"
   ]
  },
  {
   "cell_type": "code",
   "execution_count": 34,
   "metadata": {},
   "outputs": [
    {
     "name": "stdout",
     "output_type": "stream",
     "text": [
      "dict_keys(['Ex Machina', 'Mad Max: Fury Road', '1408'])\n",
      "dict_values([7.7, 8.1, 6.8])\n",
      "dict_items([('Ex Machina', 7.7), ('Mad Max: Fury Road', 8.1), ('1408', 6.8)])\n"
     ]
    }
   ],
   "source": [
    "ratings = {\n",
    "   \"Ex Machina\": 7.7,\n",
    "   \"Mad Max: Fury Road\": 8.1,\n",
    "   \"1408\" : 6.8\n",
    "}\n",
    "print(ratings.keys()) # dict_keys(['Ex Machina', 'Mad Max: Fury Road', '1408'])\n",
    "print(ratings.values()) # dict_values([7.7, 8.1, 6.8])\n",
    "print(ratings.items()) # dict_items([('Ex Machina', 7.7), ('Mad Max: Fury Road', 8.1), ('1408', 6.8)])"
   ]
  },
  {
   "cell_type": "markdown",
   "metadata": {},
   "source": [
    "### methods with the same name could have different behavior depending on the class of the method"
   ]
  },
  {
   "cell_type": "code",
   "execution_count": 36,
   "metadata": {},
   "outputs": [
    {
     "name": "stdout",
     "output_type": "stream",
     "text": [
      "4\n",
      "1\n"
     ]
    }
   ],
   "source": [
    "numbers = [10, 30, 55, 40, 8, 30]\n",
    "text = \"Data Science\"\n",
    "\n",
    "print(numbers.index(8))  # 4\n",
    "print(text.index(\"a\"))  # 1"
   ]
  },
  {
   "cell_type": "code",
   "execution_count": 37,
   "metadata": {},
   "outputs": [
    {
     "name": "stdout",
     "output_type": "stream",
     "text": [
      "2\n",
      "1\n"
     ]
    }
   ],
   "source": [
    "print(numbers.count(30)) # 2\n",
    "print(text.count(\"i\"))  # 1"
   ]
  },
  {
   "cell_type": "markdown",
   "metadata": {},
   "source": [
    "### Some methods can change the objects they are called on"
   ]
  },
  {
   "cell_type": "code",
   "execution_count": 38,
   "metadata": {},
   "outputs": [
    {
     "name": "stdout",
     "output_type": "stream",
     "text": [
      "[10, 30, 55, 40, 8, 30]\n",
      "4559970048\n",
      "[10, 30, 55, 40, 8, 30, 101]\n",
      "4559970048\n"
     ]
    }
   ],
   "source": [
    "print(numbers) # [10, 30, 55, 40, 8, 30]\n",
    "print(id(numbers))\n",
    "numbers.append(101) # append 101 at the end of list\n",
    "print(numbers) # [10, 30, 55, 40, 8, 30, 101] \n",
    "print(id(numbers))"
   ]
  },
  {
   "cell_type": "markdown",
   "metadata": {},
   "source": [
    "# swap values between/among variables"
   ]
  },
  {
   "cell_type": "code",
   "execution_count": 39,
   "metadata": {},
   "outputs": [
    {
     "name": "stdout",
     "output_type": "stream",
     "text": [
      "5 10\n"
     ]
    }
   ],
   "source": [
    "a, b = 5, 10\n",
    "print(a, b) # 5 10"
   ]
  },
  {
   "cell_type": "code",
   "execution_count": 40,
   "metadata": {},
   "outputs": [
    {
     "name": "stdout",
     "output_type": "stream",
     "text": [
      "10 5\n"
     ]
    }
   ],
   "source": [
    "a, b = b, a\n",
    "print(a, b) # 10 5"
   ]
  },
  {
   "cell_type": "markdown",
   "metadata": {},
   "source": [
    "# concat list to string"
   ]
  },
  {
   "cell_type": "code",
   "execution_count": 41,
   "metadata": {},
   "outputs": [
    {
     "name": "stdout",
     "output_type": "stream",
     "text": [
      "Python is Art\n",
      "Python,is,Art\n"
     ]
    }
   ],
   "source": [
    "a = ['Python', 'is', 'Art']\n",
    "print(\" \".join(a))\n",
    "print(\",\".join(a))"
   ]
  },
  {
   "cell_type": "markdown",
   "metadata": {},
   "source": [
    "# find the most frequent element in a list"
   ]
  },
  {
   "cell_type": "code",
   "execution_count": 42,
   "metadata": {},
   "outputs": [
    {
     "name": "stdout",
     "output_type": "stream",
     "text": [
      "2\n"
     ]
    }
   ],
   "source": [
    "a = [1,2,3,1,2,3,2,2,4,5,1]\n",
    "print(max(set(a), key=a.count))"
   ]
  },
  {
   "cell_type": "code",
   "execution_count": 43,
   "metadata": {},
   "outputs": [],
   "source": [
    "??max"
   ]
  },
  {
   "cell_type": "code",
   "execution_count": 44,
   "metadata": {},
   "outputs": [
    {
     "data": {
      "text/plain": [
       "{1, 2, 3, 4, 5}"
      ]
     },
     "execution_count": 44,
     "metadata": {},
     "output_type": "execute_result"
    }
   ],
   "source": [
    "set(a)"
   ]
  },
  {
   "cell_type": "code",
   "execution_count": 45,
   "metadata": {},
   "outputs": [
    {
     "data": {
      "text/plain": [
       "4"
      ]
     },
     "execution_count": 45,
     "metadata": {},
     "output_type": "execute_result"
    }
   ],
   "source": [
    "a.count(2)"
   ]
  },
  {
   "cell_type": "markdown",
   "metadata": {},
   "source": [
    "### learn more about the max + key usage"
   ]
  },
  {
   "cell_type": "code",
   "execution_count": 46,
   "metadata": {},
   "outputs": [],
   "source": [
    "# https://stackoverflow.com/questions/18296755/python-max-function-using-key-and-lambda-expression"
   ]
  },
  {
   "cell_type": "code",
   "execution_count": 48,
   "metadata": {},
   "outputs": [
    {
     "name": "stdout",
     "output_type": "stream",
     "text": [
      "(-1, 'z')\n"
     ]
    }
   ],
   "source": [
    "lst = [(1,'a'), (3,'c'), (4,'e'), (-1,'z')]\n",
    "print(min(lst, key=lambda x: x[0]))"
   ]
  },
  {
   "cell_type": "markdown",
   "metadata": {},
   "source": [
    "### using Counter from collections"
   ]
  },
  {
   "cell_type": "code",
   "execution_count": 49,
   "metadata": {},
   "outputs": [
    {
     "name": "stdout",
     "output_type": "stream",
     "text": [
      "Counter({2: 4, 1: 3, 3: 2, 4: 1, 5: 1})\n",
      "[(2, 4), (1, 3), (3, 2)]\n"
     ]
    }
   ],
   "source": [
    "from collections import Counter\n",
    "a = [1,2,3,1,2,3,2,2,4,5,1]\n",
    "cnt = Counter(a)\n",
    "print(cnt)\n",
    "print(cnt.most_common(3))"
   ]
  },
  {
   "cell_type": "markdown",
   "metadata": {},
   "source": [
    "### check if 2 strings consist exact same set of characters"
   ]
  },
  {
   "cell_type": "code",
   "execution_count": 50,
   "metadata": {},
   "outputs": [
    {
     "data": {
      "text/plain": [
       "True"
      ]
     },
     "execution_count": 50,
     "metadata": {},
     "output_type": "execute_result"
    }
   ],
   "source": [
    "Counter('groot') == Counter('troog')"
   ]
  },
  {
   "cell_type": "markdown",
   "metadata": {},
   "source": [
    "# reverse string (or list)"
   ]
  },
  {
   "cell_type": "code",
   "execution_count": 51,
   "metadata": {},
   "outputs": [
    {
     "name": "stdout",
     "output_type": "stream",
     "text": [
      "lkjhgfdsa\n"
     ]
    }
   ],
   "source": [
    "a = 'asdfghjkl'\n",
    "print(a[::-1])"
   ]
  },
  {
   "cell_type": "markdown",
   "metadata": {},
   "source": [
    "# iterating reversely (or list)"
   ]
  },
  {
   "cell_type": "code",
   "execution_count": 52,
   "metadata": {},
   "outputs": [
    {
     "name": "stdout",
     "output_type": "stream",
     "text": [
      "l\n",
      "k\n",
      "j\n",
      "h\n",
      "g\n",
      "f\n",
      "d\n",
      "s\n",
      "a\n"
     ]
    }
   ],
   "source": [
    "for char in reversed(a):\n",
    "    print(char)"
   ]
  },
  {
   "cell_type": "markdown",
   "metadata": {},
   "source": [
    "# reverse integer"
   ]
  },
  {
   "cell_type": "code",
   "execution_count": 53,
   "metadata": {},
   "outputs": [
    {
     "name": "stdout",
     "output_type": "stream",
     "text": [
      "654321\n"
     ]
    }
   ],
   "source": [
    "a = 123456\n",
    "print(int(str(a)[::-1]))"
   ]
  },
  {
   "cell_type": "markdown",
   "metadata": {},
   "source": [
    "# transpose 2d array"
   ]
  },
  {
   "cell_type": "code",
   "execution_count": 54,
   "metadata": {},
   "outputs": [
    {
     "name": "stdout",
     "output_type": "stream",
     "text": [
      "[('a', 'c', 'e'), ('b', 'd', 'f')]\n"
     ]
    }
   ],
   "source": [
    "original = [['a','b'],['c','d'],['e','f']]\n",
    "transposed = zip(*original)\n",
    "print(list(transposed))"
   ]
  },
  {
   "cell_type": "code",
   "execution_count": 55,
   "metadata": {},
   "outputs": [
    {
     "name": "stdout",
     "output_type": "stream",
     "text": [
      "[('a', 'c', 'e'), ('b', 'd', 'f')]\n"
     ]
    }
   ],
   "source": [
    "lst1 = ['a','b']\n",
    "lst2 = ['c', 'd']\n",
    "lst3 = ['e','f']\n",
    "print(list(zip(lst1, lst2, lst3)))"
   ]
  },
  {
   "cell_type": "code",
   "execution_count": 56,
   "metadata": {},
   "outputs": [
    {
     "name": "stdout",
     "output_type": "stream",
     "text": [
      "<zip object at 0x10fcbc9b0>\n"
     ]
    }
   ],
   "source": [
    "print(zip(lst1, lst2, lst3))"
   ]
  },
  {
   "cell_type": "code",
   "execution_count": 57,
   "metadata": {},
   "outputs": [],
   "source": [
    "?zip"
   ]
  },
  {
   "cell_type": "markdown",
   "metadata": {},
   "source": [
    "# * usage"
   ]
  },
  {
   "cell_type": "markdown",
   "metadata": {},
   "source": [
    "### The single star * unpacks the sequence/collection into positional arguments, so you can do this:"
   ]
  },
  {
   "cell_type": "code",
   "execution_count": 58,
   "metadata": {},
   "outputs": [
    {
     "data": {
      "text/plain": [
       "3"
      ]
     },
     "execution_count": 58,
     "metadata": {},
     "output_type": "execute_result"
    }
   ],
   "source": [
    "# unpacking in function call\n",
    "def sum(a, b):\n",
    "    return a + b\n",
    "values = (1, 2)\n",
    "#s = sum(value)\n",
    "s = sum(*values)\n",
    "s"
   ]
  },
  {
   "cell_type": "code",
   "execution_count": 59,
   "metadata": {},
   "outputs": [
    {
     "data": {
      "text/plain": [
       "3"
      ]
     },
     "execution_count": 59,
     "metadata": {},
     "output_type": "execute_result"
    }
   ],
   "source": [
    "# This will unpack the tuple so that it actually executes as:\n",
    "s = sum(1, 2)\n",
    "s"
   ]
  },
  {
   "cell_type": "code",
   "execution_count": 60,
   "metadata": {},
   "outputs": [
    {
     "name": "stdout",
     "output_type": "stream",
     "text": [
      "[2, 3]\n"
     ]
    }
   ],
   "source": [
    "# packing in assignment\n",
    "x, *xs, y = (1, 2, 3, 4)\n",
    "print(xs)"
   ]
  },
  {
   "cell_type": "markdown",
   "metadata": {},
   "source": [
    "# chained comparison"
   ]
  },
  {
   "cell_type": "code",
   "execution_count": 61,
   "metadata": {},
   "outputs": [
    {
     "name": "stdout",
     "output_type": "stream",
     "text": [
      "True\n",
      "False\n"
     ]
    }
   ],
   "source": [
    "b = 6\n",
    "print(4 < b < 7)\n",
    "print(1 == b < 20)"
   ]
  },
  {
   "cell_type": "markdown",
   "metadata": {},
   "source": [
    "# conditional function call with same arguments"
   ]
  },
  {
   "cell_type": "code",
   "execution_count": 62,
   "metadata": {},
   "outputs": [
    {
     "name": "stdout",
     "output_type": "stream",
     "text": [
      "35\n"
     ]
    }
   ],
   "source": [
    "def product(a, b):\n",
    "    return a * b\n",
    "\n",
    "def add(a, b):\n",
    "    return a + b\n",
    "\n",
    "boo = True\n",
    "print((product if boo else add)(5, 7))"
   ]
  },
  {
   "cell_type": "markdown",
   "metadata": {},
   "source": [
    "# remove duplicates "
   ]
  },
  {
   "cell_type": "code",
   "execution_count": 63,
   "metadata": {},
   "outputs": [
    {
     "name": "stdout",
     "output_type": "stream",
     "text": [
      "{1, 2, 3, 4, 5, 3568, -99}\n",
      "[1, 2, 3, 4, 5, 3568, -99]\n"
     ]
    }
   ],
   "source": [
    "# using set - may not preserve order\n",
    "l = [2, 1, 3, 4, 5, 4, 3, -99, 3568]\n",
    "print(set(l))\n",
    "print(list(set(l)))"
   ]
  },
  {
   "cell_type": "markdown",
   "metadata": {},
   "source": [
    "# dedupe and keep order"
   ]
  },
  {
   "cell_type": "code",
   "execution_count": 64,
   "metadata": {},
   "outputs": [
    {
     "name": "stdout",
     "output_type": "stream",
     "text": [
      "[2, 1, 3, 4, 5, -99, 3568]\n"
     ]
    }
   ],
   "source": [
    "from collections import OrderedDict\n",
    "print(list(OrderedDict.fromkeys(l).keys()))"
   ]
  },
  {
   "cell_type": "markdown",
   "metadata": {},
   "source": [
    "# sort dictionary by its value"
   ]
  },
  {
   "cell_type": "code",
   "execution_count": 69,
   "metadata": {},
   "outputs": [
    {
     "name": "stdout",
     "output_type": "stream",
     "text": [
      "[('apple', 10), ('banana', 5), ('orange', 20), ('rotten tomato', 1)]\n"
     ]
    }
   ],
   "source": [
    "# using built-in sort method\n",
    "d = {\"apple\":10, \"orange\":20, \"banana\": 5, \"rotten tomato\": 1}\n",
    "print(sorted(d.items(), key=lambda x: x[0]))"
   ]
  },
  {
   "cell_type": "code",
   "execution_count": 70,
   "metadata": {},
   "outputs": [
    {
     "name": "stdout",
     "output_type": "stream",
     "text": [
      "dict_keys(['apple', 'orange', 'banana', 'rotten tomato'])\n",
      "dict_values([10, 20, 5, 1])\n",
      "dict_items([('apple', 10), ('orange', 20), ('banana', 5), ('rotten tomato', 1)])\n"
     ]
    }
   ],
   "source": [
    "print(d.keys()) \n",
    "print(d.values()) \n",
    "print(d.items()) "
   ]
  },
  {
   "cell_type": "markdown",
   "metadata": {},
   "source": [
    "# sort keys by value"
   ]
  },
  {
   "cell_type": "code",
   "execution_count": 95,
   "metadata": {},
   "outputs": [
    {
     "name": "stdout",
     "output_type": "stream",
     "text": [
      "['rotten tomato', 'banana', 'apple', 'orange']\n"
     ]
    }
   ],
   "source": [
    "print(sorted(d, key=d.get))"
   ]
  },
  {
   "cell_type": "code",
   "execution_count": 102,
   "metadata": {},
   "outputs": [
    {
     "data": {
      "text/plain": [
       "10"
      ]
     },
     "execution_count": 102,
     "metadata": {},
     "output_type": "execute_result"
    }
   ],
   "source": [
    "d.get('apple', 0)\n"
   ]
  },
  {
   "cell_type": "code",
   "execution_count": 98,
   "metadata": {},
   "outputs": [
    {
     "data": {
      "text/plain": [
       "10"
      ]
     },
     "execution_count": 98,
     "metadata": {},
     "output_type": "execute_result"
    }
   ],
   "source": [
    "d[\"apple\"]"
   ]
  },
  {
   "cell_type": "code",
   "execution_count": 100,
   "metadata": {},
   "outputs": [
    {
     "data": {
      "text/plain": [
       "0"
      ]
     },
     "execution_count": 100,
     "metadata": {},
     "output_type": "execute_result"
    }
   ],
   "source": [
    "d.get('kiwi', 0)"
   ]
  },
  {
   "cell_type": "code",
   "execution_count": 101,
   "metadata": {},
   "outputs": [
    {
     "ename": "KeyError",
     "evalue": "'kiwi'",
     "output_type": "error",
     "traceback": [
      "\u001b[0;31m---------------------------------------------------------------------------\u001b[0m",
      "\u001b[0;31mKeyError\u001b[0m                                  Traceback (most recent call last)",
      "\u001b[0;32m<ipython-input-101-3849ce6f85c2>\u001b[0m in \u001b[0;36m<module>\u001b[0;34m\u001b[0m\n\u001b[0;32m----> 1\u001b[0;31m \u001b[0md\u001b[0m\u001b[0;34m[\u001b[0m\u001b[0;34m\"kiwi\"\u001b[0m\u001b[0;34m]\u001b[0m\u001b[0;34m\u001b[0m\u001b[0;34m\u001b[0m\u001b[0m\n\u001b[0m",
      "\u001b[0;31mKeyError\u001b[0m: 'kiwi'"
     ]
    }
   ],
   "source": [
    "d[\"kiwi\"]"
   ]
  },
  {
   "cell_type": "code",
   "execution_count": 103,
   "metadata": {},
   "outputs": [
    {
     "data": {
      "text/plain": [
       "['apple', 'orange', 'banana', 'rotten tomato']"
      ]
     },
     "execution_count": 103,
     "metadata": {},
     "output_type": "execute_result"
    }
   ],
   "source": [
    "list(d)"
   ]
  },
  {
   "cell_type": "code",
   "execution_count": 104,
   "metadata": {
    "scrolled": true
   },
   "outputs": [
    {
     "data": {
      "text/plain": [
       "['apple', 'banana', 'orange', 'rotten tomato']"
      ]
     },
     "execution_count": 104,
     "metadata": {},
     "output_type": "execute_result"
    }
   ],
   "source": [
    "sorted(d) # when call d, the input is the list of key values"
   ]
  },
  {
   "cell_type": "markdown",
   "metadata": {},
   "source": [
    "# convert list to comma separated string"
   ]
  },
  {
   "cell_type": "code",
   "execution_count": 105,
   "metadata": {},
   "outputs": [
    {
     "name": "stdout",
     "output_type": "stream",
     "text": [
      "foo, bar, baz\n"
     ]
    }
   ],
   "source": [
    "l = ['foo', 'bar', 'baz']\n",
    "print(', '.join(l))"
   ]
  },
  {
   "cell_type": "code",
   "execution_count": 106,
   "metadata": {},
   "outputs": [
    {
     "name": "stdout",
     "output_type": "stream",
     "text": [
      "1, 2, 3, 4\n"
     ]
    }
   ],
   "source": [
    "num = [1,2,3,4]\n",
    "print(', '.join(map(str, num)))"
   ]
  },
  {
   "cell_type": "code",
   "execution_count": 107,
   "metadata": {},
   "outputs": [
    {
     "name": "stdout",
     "output_type": "stream",
     "text": [
      "1\n",
      "2\n",
      "3\n",
      "4\n"
     ]
    }
   ],
   "source": [
    "for ele in map(str, num):\n",
    "    print(ele)"
   ]
  },
  {
   "cell_type": "code",
   "execution_count": null,
   "metadata": {
    "collapsed": true
   },
   "outputs": [],
   "source": []
  }
 ],
 "metadata": {
  "anaconda-cloud": {},
  "kernelspec": {
   "display_name": "Python 3",
   "language": "python",
   "name": "python3"
  },
  "language_info": {
   "codemirror_mode": {
    "name": "ipython",
    "version": 3
   },
   "file_extension": ".py",
   "mimetype": "text/x-python",
   "name": "python",
   "nbconvert_exporter": "python",
   "pygments_lexer": "ipython3",
   "version": "3.7.4"
  }
 },
 "nbformat": 4,
 "nbformat_minor": 2
}
